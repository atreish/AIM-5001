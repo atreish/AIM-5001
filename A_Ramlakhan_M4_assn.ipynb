{
 "cells": [
  {
   "cell_type": "code",
   "execution_count": 1,
   "metadata": {},
   "outputs": [],
   "source": [
    "import math\n",
    "import numpy as np\n",
    "import matplotlib as plt\n",
    "import pandas as pd\n",
    "import csv"
   ]
  },
  {
   "cell_type": "code",
   "execution_count": 2,
   "metadata": {},
   "outputs": [
    {
     "name": "stdout",
     "output_type": "stream",
     "text": [
      "['high', 'high', '2', '4', 'med', 'low', 'unacc']\n",
      "['high', 'high', '4', 'more', 'small', 'high', 'acc']\n",
      "['high', 'high', '4', 'more', 'big', 'low', 'unacc']\n",
      "['high', 'low', '2', 'more', 'big', 'high', 'acc']\n",
      "['vhigh', 'low', '3', '2', 'med', 'med', 'unacc']\n",
      "['low', 'high', '2', '2', 'small', 'low', 'unacc']\n",
      "['med', 'med', '4', 'more', 'med', 'high', 'vgood']\n",
      "['low', 'low', '3', '2', 'big', 'med', 'unacc']\n",
      "['vhigh', 'low', '2', '2', 'small', 'low', 'unacc']\n",
      "['vhigh', 'high', '4', '4', 'med', 'low', 'unacc']\n",
      "['low', 'low', '2', '2', 'med', 'med', 'unacc']\n",
      "['vhigh', 'low', '4', 'more', 'small', 'high', 'acc']\n",
      "['high', 'low', '2', '4', 'big', 'med', 'acc']\n",
      "['low', 'vhigh', '3', 'more', 'big', 'low', 'unacc']\n",
      "['high', 'low', '5more', '2', 'big', 'med', 'unacc']\n",
      "['vhigh', 'high', '2', 'more', 'med', 'high', 'unacc']\n",
      "['med', 'med', '2', '2', 'small', 'low', 'unacc']\n",
      "['high', 'low', '5more', '4', 'med', 'high', 'acc']\n",
      "['low', 'low', '3', 'more', 'med', 'high', 'vgood']\n",
      "['low', 'low', '2', '2', 'big', 'med', 'unacc']\n",
      "['med', 'high', '4', '2', 'big', 'high', 'unacc']\n",
      "['low', 'low', '2', '2', 'small', 'high', 'unacc']\n",
      "['vhigh', 'high', '5more', '4', 'med', 'med', 'unacc']\n",
      "['med', 'vhigh', '2', '2', 'big', 'low', 'unacc']\n",
      "['low', 'vhigh', '4', '4', 'big', 'low', 'unacc']\n",
      "['vhigh', 'low', '3', 'more', 'big', 'low', 'unacc']\n",
      "['med', 'vhigh', '3', '4', 'small', 'low', 'unacc']\n",
      "['high', 'high', '3', '4', 'med', 'med', 'unacc']\n",
      "['low', 'high', '5more', '2', 'big', 'low', 'unacc']\n",
      "['med', 'high', '5more', '2', 'med', 'med', 'unacc']\n",
      "['high', 'low', '3', '4', 'med', 'high', 'acc']\n",
      "['high', 'vhigh', '5more', '4', 'med', 'med', 'unacc']\n",
      "['low', 'low', '5more', '2', 'med', 'low', 'unacc']\n",
      "['vhigh', 'vhigh', '4', '2', 'big', 'high', 'unacc']\n",
      "['high', 'low', '3', '2', 'big', 'high', 'unacc']\n"
     ]
    }
   ],
   "source": [
    "with open('carssample35.txt') as csvfile: \n",
    "    readCSV = csv.reader(csvfile)\n",
    "    for row in readCSV:\n",
    "        print(row)"
   ]
  },
  {
   "cell_type": "code",
   "execution_count": 3,
   "metadata": {},
   "outputs": [],
   "source": [
    "Price = []\n",
    "Maintenance_cost = []\n",
    "Num_of_doors = []\n",
    "Num_of_passengers = []\n",
    "Luggage_capacity = []\n",
    "Safety_rating = []\n",
    "Class_of_vehicle = []"
   ]
  },
  {
   "cell_type": "code",
   "execution_count": 4,
   "metadata": {},
   "outputs": [
    {
     "name": "stdout",
     "output_type": "stream",
     "text": [
      "Price ['high', 'high', 'high', 'high', 'vhigh', 'low', 'med', 'low', 'vhigh', 'vhigh', 'low', 'vhigh', 'high', 'low', 'high', 'vhigh', 'med', 'high', 'low', 'low', 'med', 'low', 'vhigh', 'med', 'low', 'vhigh', 'med', 'high', 'low', 'med', 'high', 'high', 'low', 'vhigh', 'high']\n",
      "Maintenance Cost ['high', 'high', 'high', 'low', 'low', 'high', 'med', 'low', 'low', 'high', 'low', 'low', 'low', 'vhigh', 'low', 'high', 'med', 'low', 'low', 'low', 'high', 'low', 'high', 'vhigh', 'vhigh', 'low', 'vhigh', 'high', 'high', 'high', 'low', 'vhigh', 'low', 'vhigh', 'low']\n",
      "Number of Doors ['2', '4', '4', '2', '3', '2', '4', '3', '2', '4', '2', '4', '2', '3', '5more', '2', '2', '5more', '3', '2', '4', '2', '5more', '2', '4', '3', '3', '3', '5more', '5more', '3', '5more', '5more', '4', '3']\n",
      "Number of Passengers ['4', 'more', 'more', 'more', '2', '2', 'more', '2', '2', '4', '2', 'more', '4', 'more', '2', 'more', '2', '4', 'more', '2', '2', '2', '4', '2', '4', 'more', '4', '4', '2', '2', '4', '4', '2', '2', '2']\n",
      "Luggage Capacity ['med', 'small', 'big', 'big', 'med', 'small', 'med', 'big', 'small', 'med', 'med', 'small', 'big', 'big', 'big', 'med', 'small', 'med', 'med', 'big', 'big', 'small', 'med', 'big', 'big', 'big', 'small', 'med', 'big', 'med', 'med', 'med', 'med', 'big', 'big']\n",
      "Safety Rating ['low', 'high', 'low', 'high', 'med', 'low', 'high', 'med', 'low', 'low', 'med', 'high', 'med', 'low', 'med', 'high', 'low', 'high', 'high', 'med', 'high', 'high', 'med', 'low', 'low', 'low', 'low', 'med', 'low', 'med', 'high', 'med', 'low', 'high', 'high']\n",
      "Classification of Vehicle ['unacc', 'acc', 'unacc', 'acc', 'unacc', 'unacc', 'vgood', 'unacc', 'unacc', 'unacc', 'unacc', 'acc', 'acc', 'unacc', 'unacc', 'unacc', 'unacc', 'acc', 'vgood', 'unacc', 'unacc', 'unacc', 'unacc', 'unacc', 'unacc', 'unacc', 'unacc', 'unacc', 'unacc', 'unacc', 'acc', 'unacc', 'unacc', 'unacc', 'unacc']\n"
     ]
    }
   ],
   "source": [
    "with open('carssample35.txt') as csvfile: \n",
    "    readCSV = csv.reader(csvfile)  #again referencing the file as a CSV\n",
    "    for row in readCSV: #targeting the ROW and not the column, so each instance of a unique car (as per our data)\n",
    "      Price.append(row[0]) #Add the first row to Price list, and so on for all 7 uring append function\n",
    "      Maintenance_cost.append(row[1])\n",
    "      Num_of_doors.append(row[2])\n",
    "      Num_of_passengers.append(row[3])\n",
    "      Luggage_capacity.append(row[4])\n",
    "      Safety_rating.append(row[5])\n",
    "      Class_of_vehicle.append(row[6])\n",
    "print(\"Price\", Price) #Printing just helps visualize the new list of column values for our CSV file\n",
    "print(\"Maintenance Cost\", Maintenance_cost)\n",
    "print(\"Number of Doors\", Num_of_doors)\n",
    "print(\"Number of Passengers\", Num_of_passengers)\n",
    "print(\"Luggage Capacity\", Luggage_capacity)\n",
    "print(\"Safety Rating\", Safety_rating)\n",
    "print(\"Classification of Vehicle\", Class_of_vehicle)"
   ]
  },
  {
   "cell_type": "markdown",
   "metadata": {},
   "source": [
    "# 1 "
   ]
  },
  {
   "cell_type": "code",
   "execution_count": 5,
   "metadata": {},
   "outputs": [
    {
     "name": "stdout",
     "output_type": "stream",
     "text": [
      "Index values for Medium Priced Cars: [6, 16, 20, 23, 26, 29]\n"
     ]
    }
   ],
   "source": [
    "Price_med = [i for i in range(len(Price))if Price[i] == 'med']\n",
    "#creat a new list and we iterate through all of the items in the Price list with the condition Price = med and then\n",
    "#we populate our list\n",
    "print(\"Index values for Medium Priced Cars:\", Price_med) \n",
    "#simply print our new list"
   ]
  },
  {
   "cell_type": "markdown",
   "metadata": {},
   "source": [
    "# 2"
   ]
  },
  {
   "cell_type": "code",
   "execution_count": 6,
   "metadata": {},
   "outputs": [
    {
     "name": "stdout",
     "output_type": "stream",
     "text": [
      "Number of passengers of Medium Priced Cars: ['more', '2', '2', '2', '4', '2']\n"
     ]
    }
   ],
   "source": [
    "Pass_med_price = [Num_of_passengers[i] for i in Price_med] \n",
    "#create a new list and iterate the list we just made because it meets the condition we want and prints the values\n",
    "#that correspond in our Num_of_passengers list from teh file\n",
    "print(\"Number of passengers of Medium Priced Cars:\", Pass_med_price) #print our new list"
   ]
  },
  {
   "cell_type": "markdown",
   "metadata": {},
   "source": [
    "# 3"
   ]
  },
  {
   "cell_type": "code",
   "execution_count": 7,
   "metadata": {},
   "outputs": [
    {
     "name": "stdout",
     "output_type": "stream",
     "text": [
      "Price is High and Maintenance is Low: [0, 1, 2, 27, 31]\n"
     ]
    }
   ],
   "source": [
    "Price_high_main_notlow = [i for i in range(len(Price))if Price[i] == 'high' and Maintenance_cost[i] != 'low']\n",
    "#create a list to be populated and then attach the conditions in our list comprehension using and keyword\n",
    "print(\"Price is High and Maintenance is Low:\",Price_high_main_notlow) #then print"
   ]
  },
  {
   "cell_type": "markdown",
   "metadata": {},
   "source": [
    "*********"
   ]
  },
  {
   "cell_type": "markdown",
   "metadata": {},
   "source": [
    "# 4"
   ]
  },
  {
   "cell_type": "code",
   "execution_count": 8,
   "metadata": {},
   "outputs": [],
   "source": [
    "nlist = [[1, 2, 3],['A','B','C'],[4, 5],['D','E']]"
   ]
  },
  {
   "cell_type": "code",
   "execution_count": 9,
   "metadata": {},
   "outputs": [
    {
     "name": "stdout",
     "output_type": "stream",
     "text": [
      "[1, 2, 3, 'A', 'B', 'C', 4, 5, 'D', 'E']\n"
     ]
    }
   ],
   "source": [
    "flist = []\n",
    "for x in nlist: \n",
    "    for y in x:\n",
    "        flist.append(y) \n",
    "print(flist)"
   ]
  },
  {
   "cell_type": "code",
   "execution_count": 10,
   "metadata": {},
   "outputs": [
    {
     "name": "stdout",
     "output_type": "stream",
     "text": [
      "[1, 2, 3, 'A', 'B', 'C', 4, 5, 'D', 'E']\n"
     ]
    }
   ],
   "source": [
    "klist = [y for x in nlist for y in x] \n",
    "#we create a new list klist then we provide the list comprehension\n",
    "#this list comprehenision logic splits every element of the list within nlist\n",
    "#For help with this question I used: https://blog.finxter.com/python-list-of-lists/#Convert_List_of_Lists_to_One_List\n",
    "print(klist) #prints it"
   ]
  },
  {
   "cell_type": "markdown",
   "metadata": {},
   "source": [
    "# 5"
   ]
  },
  {
   "cell_type": "code",
   "execution_count": 11,
   "metadata": {},
   "outputs": [],
   "source": [
    "mylist = [] #first we define a list to feed into the function to be made a dict\n",
    "def makedict(mylist, x): #we want our two parameters to be a certain type mylist is a list and x is an int type\n",
    "\n",
    "     if (type(x) != int):\n",
    "        return \"Error: this length imput is not an int\" #Error if the x imput isnt an int  \n",
    "     if x > len(mylist): #x must be 1 less than the length of the list\n",
    "        return \"Error: the length imput is greater than the list\"  #If out of range give an error\n",
    "     \n",
    "     newdict = { 'A' + str(i): mylist[i] for i in range(x) } \n",
    "#str(i) is a function that allows you to convert our number in the key to a string which adds to A, so its one string\n",
    "     return(newdict)"
   ]
  },
  {
   "cell_type": "code",
   "execution_count": 12,
   "metadata": {},
   "outputs": [
    {
     "data": {
      "text/plain": [
       "35"
      ]
     },
     "execution_count": 12,
     "metadata": {},
     "output_type": "execute_result"
    }
   ],
   "source": [
    "len(Class_of_vehicle) #Length of a list Class_of_vehicle tobe testes"
   ]
  },
  {
   "cell_type": "code",
   "execution_count": 13,
   "metadata": {},
   "outputs": [
    {
     "name": "stdout",
     "output_type": "stream",
     "text": [
      "Error: the length imput is greater than the list\n"
     ]
    }
   ],
   "source": [
    "trial = makedict(Class_of_vehicle, 37) #Error trial\n",
    "print(trial)"
   ]
  },
  {
   "cell_type": "code",
   "execution_count": 14,
   "metadata": {},
   "outputs": [
    {
     "name": "stdout",
     "output_type": "stream",
     "text": [
      "Error: this length imput is not an int\n"
     ]
    }
   ],
   "source": [
    "trial2 = makedict(Class_of_vehicle,'20') #Error trial\n",
    "print(trial2)"
   ]
  },
  {
   "cell_type": "code",
   "execution_count": 15,
   "metadata": {},
   "outputs": [
    {
     "name": "stdout",
     "output_type": "stream",
     "text": [
      "{'A0': 'unacc', 'A1': 'acc', 'A2': 'unacc', 'A3': 'acc', 'A4': 'unacc', 'A5': 'unacc', 'A6': 'vgood', 'A7': 'unacc', 'A8': 'unacc', 'A9': 'unacc', 'A10': 'unacc', 'A11': 'acc', 'A12': 'acc', 'A13': 'unacc', 'A14': 'unacc', 'A15': 'unacc', 'A16': 'unacc', 'A17': 'acc', 'A18': 'vgood', 'A19': 'unacc'}\n"
     ]
    }
   ],
   "source": [
    "trial3 = makedict(Class_of_vehicle, 20) #tests if the function actually works\n",
    "print(trial3)"
   ]
  },
  {
   "cell_type": "markdown",
   "metadata": {},
   "source": [
    "# 6"
   ]
  },
  {
   "cell_type": "code",
   "execution_count": 19,
   "metadata": {},
   "outputs": [
    {
     "name": "stdout",
     "output_type": "stream",
     "text": [
      "{'A0': 'high', 'A1': 'high', 'A2': 'high', 'A3': 'high', 'A4': 'vhigh', 'A5': 'low', 'A6': 'med'}\n",
      "{'A0': 'med', 'A1': 'small', 'A2': 'big', 'A3': 'big', 'A4': 'med', 'A5': 'small', 'A6': 'med'}\n",
      "The A4 Index of Price is:  ['vhigh']\n",
      "The A4 Index of Luggage capacity is:  ['med']\n"
     ]
    }
   ],
   "source": [
    "#now we are creating a key function that specifies a key value in a dict to call on later\n",
    "def keyofdicts(dict, key):\n",
    "    return [dict[key] for k in dict.keys() if k == key] #returns a ket of the dict specidied by list comprehension                                                       \n",
    "# return value as list\n",
    "# call function and print dict\n",
    "Price_dict = makedict(Price, 7) #casts the first 7 keys & values from Price list to a dict using our makedict function \n",
    "Luggage_dict = makedict(Luggage_capacity, 7) #the same for luggage capicity list\n",
    "print(Price_dict) #prints them out as a dict so expect {}\n",
    "print(Luggage_dict)\n",
    "#call function above to print results for the A4 index value in our newly created dict object for Price and Luggauge\n",
    "print('The A4 Index of Price is: ', keyofdicts(Price_dict, 'A4'))\n",
    "print('The A4 Index of Luggage capacity is: ', keyofdicts(Luggage_dict, 'A4'))"
   ]
  },
  {
   "cell_type": "code",
   "execution_count": null,
   "metadata": {},
   "outputs": [],
   "source": []
  },
  {
   "cell_type": "code",
   "execution_count": null,
   "metadata": {},
   "outputs": [],
   "source": []
  },
  {
   "cell_type": "code",
   "execution_count": null,
   "metadata": {},
   "outputs": [],
   "source": []
  },
  {
   "cell_type": "code",
   "execution_count": null,
   "metadata": {},
   "outputs": [],
   "source": []
  },
  {
   "cell_type": "code",
   "execution_count": null,
   "metadata": {},
   "outputs": [],
   "source": []
  },
  {
   "cell_type": "code",
   "execution_count": null,
   "metadata": {},
   "outputs": [],
   "source": []
  },
  {
   "cell_type": "code",
   "execution_count": null,
   "metadata": {},
   "outputs": [],
   "source": []
  },
  {
   "cell_type": "code",
   "execution_count": null,
   "metadata": {},
   "outputs": [],
   "source": []
  },
  {
   "cell_type": "code",
   "execution_count": null,
   "metadata": {},
   "outputs": [],
   "source": []
  },
  {
   "cell_type": "code",
   "execution_count": null,
   "metadata": {},
   "outputs": [],
   "source": []
  }
 ],
 "metadata": {
  "kernelspec": {
   "display_name": "Python 3",
   "language": "python",
   "name": "python3"
  },
  "language_info": {
   "codemirror_mode": {
    "name": "ipython",
    "version": 3
   },
   "file_extension": ".py",
   "mimetype": "text/x-python",
   "name": "python",
   "nbconvert_exporter": "python",
   "pygments_lexer": "ipython3",
   "version": "3.7.4"
  }
 },
 "nbformat": 4,
 "nbformat_minor": 2
}
