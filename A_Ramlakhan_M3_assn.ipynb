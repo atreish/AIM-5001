{
 "cells": [
  {
   "cell_type": "code",
   "execution_count": 1,
   "metadata": {},
   "outputs": [],
   "source": [
    "import math\n",
    "import numpy as np\n",
    "import matplotlib as plt\n",
    "import pandas as pd\n",
    "import csv"
   ]
  },
  {
   "cell_type": "code",
   "execution_count": 2,
   "metadata": {},
   "outputs": [
    {
     "name": "stdout",
     "output_type": "stream",
     "text": [
      "['high', 'high', '2', '4', 'med', 'low', 'unacc']\n",
      "['high', 'high', '4', 'more', 'small', 'high', 'acc']\n",
      "['high', 'high', '4', 'more', 'big', 'low', 'unacc']\n",
      "['high', 'low', '2', 'more', 'big', 'high', 'acc']\n",
      "['vhigh', 'low', '3', '2', 'med', 'med', 'unacc']\n",
      "['low', 'high', '2', '2', 'small', 'low', 'unacc']\n",
      "['med', 'med', '4', 'more', 'med', 'high', 'vgood']\n",
      "['low', 'low', '3', '2', 'big', 'med', 'unacc']\n",
      "['vhigh', 'low', '2', '2', 'small', 'low', 'unacc']\n",
      "['vhigh', 'high', '4', '4', 'med', 'low', 'unacc']\n",
      "['low', 'low', '2', '2', 'med', 'med', 'unacc']\n",
      "['vhigh', 'low', '4', 'more', 'small', 'high', 'acc']\n",
      "['high', 'low', '2', '4', 'big', 'med', 'acc']\n",
      "['low', 'vhigh', '3', 'more', 'big', 'low', 'unacc']\n",
      "['high', 'low', '5more', '2', 'big', 'med', 'unacc']\n",
      "['vhigh', 'high', '2', 'more', 'med', 'high', 'unacc']\n",
      "['med', 'med', '2', '2', 'small', 'low', 'unacc']\n",
      "['high', 'low', '5more', '4', 'med', 'high', 'acc']\n",
      "['low', 'low', '3', 'more', 'med', 'high', 'vgood']\n",
      "['low', 'low', '2', '2', 'big', 'med', 'unacc']\n",
      "['med', 'high', '4', '2', 'big', 'high', 'unacc']\n",
      "['low', 'low', '2', '2', 'small', 'high', 'unacc']\n",
      "['vhigh', 'high', '5more', '4', 'med', 'med', 'unacc']\n",
      "['med', 'vhigh', '2', '2', 'big', 'low', 'unacc']\n",
      "['low', 'vhigh', '4', '4', 'big', 'low', 'unacc']\n",
      "['vhigh', 'low', '3', 'more', 'big', 'low', 'unacc']\n",
      "['med', 'vhigh', '3', '4', 'small', 'low', 'unacc']\n",
      "['high', 'high', '3', '4', 'med', 'med', 'unacc']\n",
      "['low', 'high', '5more', '2', 'big', 'low', 'unacc']\n",
      "['med', 'high', '5more', '2', 'med', 'med', 'unacc']\n",
      "['high', 'low', '3', '4', 'med', 'high', 'acc']\n",
      "['high', 'vhigh', '5more', '4', 'med', 'med', 'unacc']\n",
      "['low', 'low', '5more', '2', 'med', 'low', 'unacc']\n",
      "['vhigh', 'vhigh', '4', '2', 'big', 'high', 'unacc']\n",
      "['high', 'low', '3', '2', 'big', 'high', 'unacc']\n"
     ]
    }
   ],
   "source": [
    "with open('carssample35.txt') as csvfile: \n",
    "    readCSV = csv.reader(csvfile)\n",
    "    for row in readCSV:\n",
    "        print(row)\n",
    "        \n",
    "#Price, Maintenance cost, Num of doors, Num of passengers, Luggage capacity, Safety rating, Class of vehicle"
   ]
  },
  {
   "cell_type": "markdown",
   "metadata": {},
   "source": [
    "#1 Create seven distinct Python list objects attributes from each line of the file."
   ]
  },
  {
   "cell_type": "code",
   "execution_count": 3,
   "metadata": {},
   "outputs": [],
   "source": [
    "#We first define the lists so that we can populate them with the data from the rows of the CSV file\n",
    "Price = []\n",
    "Maintenance_cost = []\n",
    "Num_of_doors = []\n",
    "Num_of_passengers = []\n",
    "Luggage_capacity = []\n",
    "Safety_rating = []\n",
    "Class_of_vehicle = []"
   ]
  },
  {
   "cell_type": "code",
   "execution_count": 4,
   "metadata": {},
   "outputs": [
    {
     "name": "stdout",
     "output_type": "stream",
     "text": [
      "Price ['high', 'high', 'high', 'high', 'vhigh', 'low', 'med', 'low', 'vhigh', 'vhigh', 'low', 'vhigh', 'high', 'low', 'high', 'vhigh', 'med', 'high', 'low', 'low', 'med', 'low', 'vhigh', 'med', 'low', 'vhigh', 'med', 'high', 'low', 'med', 'high', 'high', 'low', 'vhigh', 'high']\n",
      "Maintenance Cost ['high', 'high', 'high', 'low', 'low', 'high', 'med', 'low', 'low', 'high', 'low', 'low', 'low', 'vhigh', 'low', 'high', 'med', 'low', 'low', 'low', 'high', 'low', 'high', 'vhigh', 'vhigh', 'low', 'vhigh', 'high', 'high', 'high', 'low', 'vhigh', 'low', 'vhigh', 'low']\n",
      "Number of Doors ['2', '4', '4', '2', '3', '2', '4', '3', '2', '4', '2', '4', '2', '3', '5more', '2', '2', '5more', '3', '2', '4', '2', '5more', '2', '4', '3', '3', '3', '5more', '5more', '3', '5more', '5more', '4', '3']\n",
      "Number of Passengers ['4', 'more', 'more', 'more', '2', '2', 'more', '2', '2', '4', '2', 'more', '4', 'more', '2', 'more', '2', '4', 'more', '2', '2', '2', '4', '2', '4', 'more', '4', '4', '2', '2', '4', '4', '2', '2', '2']\n",
      "Luggage Capacity ['med', 'small', 'big', 'big', 'med', 'small', 'med', 'big', 'small', 'med', 'med', 'small', 'big', 'big', 'big', 'med', 'small', 'med', 'med', 'big', 'big', 'small', 'med', 'big', 'big', 'big', 'small', 'med', 'big', 'med', 'med', 'med', 'med', 'big', 'big']\n",
      "Safety Rating ['low', 'high', 'low', 'high', 'med', 'low', 'high', 'med', 'low', 'low', 'med', 'high', 'med', 'low', 'med', 'high', 'low', 'high', 'high', 'med', 'high', 'high', 'med', 'low', 'low', 'low', 'low', 'med', 'low', 'med', 'high', 'med', 'low', 'high', 'high']\n",
      "Classification of Vehicle ['unacc', 'acc', 'unacc', 'acc', 'unacc', 'unacc', 'vgood', 'unacc', 'unacc', 'unacc', 'unacc', 'acc', 'acc', 'unacc', 'unacc', 'unacc', 'unacc', 'acc', 'vgood', 'unacc', 'unacc', 'unacc', 'unacc', 'unacc', 'unacc', 'unacc', 'unacc', 'unacc', 'unacc', 'unacc', 'acc', 'unacc', 'unacc', 'unacc', 'unacc']\n"
     ]
    }
   ],
   "source": [
    "with open('carssample35.txt') as csvfile: \n",
    "    readCSV = csv.reader(csvfile)  #again referencing the file as a CSV\n",
    "    for row in readCSV: #targeting the ROW and not the column, so each instance of a unique car (as per our data)\n",
    "      Price.append(row[0]) #Add the first row to Price list, and so on for all 7 uring append function\n",
    "      Maintenance_cost.append(row[1])\n",
    "      Num_of_doors.append(row[2])\n",
    "      Num_of_passengers.append(row[3])\n",
    "      Luggage_capacity.append(row[4])\n",
    "      Safety_rating.append(row[5])\n",
    "      Class_of_vehicle.append(row[6])\n",
    "print(\"Price\", Price) #Printing just helps visualize the new list of column values for our CSV file\n",
    "print(\"Maintenance Cost\", Maintenance_cost)\n",
    "print(\"Number of Doors\", Num_of_doors)\n",
    "print(\"Number of Passengers\", Num_of_passengers)\n",
    "print(\"Luggage Capacity\", Luggage_capacity)\n",
    "print(\"Safety Rating\", Safety_rating)\n",
    "print(\"Classification of Vehicle\", Class_of_vehicle)"
   ]
  },
  {
   "cell_type": "markdown",
   "metadata": {},
   "source": [
    "#2 Find the list index values of each automobile having a Price rating of medium. Create a new list object with result"
   ]
  },
  {
   "cell_type": "code",
   "execution_count": 5,
   "metadata": {},
   "outputs": [],
   "source": [
    "#we have to define a new list so that we can populate it with the index numbers matching the attribute we want\n",
    "Medium_Price = []"
   ]
  },
  {
   "cell_type": "code",
   "execution_count": 6,
   "metadata": {},
   "outputs": [
    {
     "name": "stdout",
     "output_type": "stream",
     "text": [
      "Medium Price cars [6, 16, 20, 23, 26, 29]\n"
     ]
    }
   ],
   "source": [
    "for i in range(len(Price)): #searching through the list Price with various attributes/values\n",
    "  if Price[i] == 'med': #select the attribute that we want from the Price list\n",
    "      Medium_Price.append(i) #add those values to our newly defined list      \n",
    "print(\"Medium Price cars\", Medium_Price) "
   ]
  },
  {
   "cell_type": "markdown",
   "metadata": {},
   "source": [
    "#3 Find the # of Passengers for each auo haveing a price med"
   ]
  },
  {
   "cell_type": "code",
   "execution_count": 7,
   "metadata": {},
   "outputs": [],
   "source": [
    "#basically this is just linking the List num of passenger values to the list we just created so we define another list\n",
    "pass_med_price = []"
   ]
  },
  {
   "cell_type": "code",
   "execution_count": 8,
   "metadata": {},
   "outputs": [
    {
     "name": "stdout",
     "output_type": "stream",
     "text": [
      "List with number of passengers for medium Rice ['more', '2', '2', '2', '4', '2']\n"
     ]
    }
   ],
   "source": [
    "for i in Medium_Price: #itertes through entire list\n",
    "        pass_med_price.append(Num_of_passengers[i]) #populates our latest list with the corresponding index values     \n",
    "print(\"List with number of passengers for medium Rice\",pass_med_price)"
   ]
  },
  {
   "cell_type": "markdown",
   "metadata": {},
   "source": [
    "#4 Find index value for each automobile having Price=high and Maintainence not = low"
   ]
  },
  {
   "cell_type": "code",
   "execution_count": 9,
   "metadata": {},
   "outputs": [],
   "source": [
    "Price_high_maint_notlow = [] #create our list to be populated"
   ]
  },
  {
   "cell_type": "code",
   "execution_count": 10,
   "metadata": {},
   "outputs": [
    {
     "name": "stdout",
     "output_type": "stream",
     "text": [
      "Price is High and Maintenence is low [0, 1, 2, 27, 31]\n"
     ]
    }
   ],
   "source": [
    "for i in range(len(Price)): #iterate through price\n",
    "    if Price[i] == 'high': #condition or attribute we want\n",
    "        j = i #new list when we add 2nd condition\n",
    "        if Maintenance_cost[j] != 'low': #iterate through maintenance cost list for 2nd required condition not= low\n",
    "            Price_high_maint_notlow.append(j) #add all items with both attributes to our newly defined list\n",
    "print(\"Price is High and Maintenence is low\",Price_high_maint_notlow)"
   ]
  },
  {
   "cell_type": "markdown",
   "metadata": {},
   "source": [
    "#5 Create a Python class named \"CarData\" and include a class variable 'CarCount' Must contain 8 variable instances including a unique ID for each vehice (use 'uniqueID') and 7 additional instance variables corresponding to 7 attributes of the file."
   ]
  },
  {
   "cell_type": "code",
   "execution_count": 11,
   "metadata": {},
   "outputs": [],
   "source": [
    "class CarData: #create a class\n",
    "      CarCount = 0 #definiing the class variable to begin counting\n",
    "      def __init__(self, Price, Maintenance_cost, Num_of_doors, Num_of_passengers, Luggage_capacity, Safety_rating,\n",
    "                 Class_of_vehicle): #arguments\n",
    "        self.Price = Price\n",
    "        self.Maintenance_cost = Maintenance_cost\n",
    "        self.Num_of_doors = Num_of_doors\n",
    "        self.Num_of_passengers = Num_of_passengers\n",
    "        self.Luggage_capacity = Luggage_capacity\n",
    "        self.Safety_rating = Safety_rating\n",
    "        self.Class_of_vehicle = Class_of_vehicle\n",
    "        self.uniqueID = CarData.CarCount \n",
    "#this is not an argument but creates a data point (not sure what to call it) called UniqueID thats bases on CarCount \n",
    "        CarData.CarCount += 1 #this is the counter for each idem"
   ]
  },
  {
   "cell_type": "markdown",
   "metadata": {},
   "source": [
    "#6  Read the cars-sample35.txt file again and store its content into a list of CarData class objects, with each row within the file being loaded into a distinct CarData class object within that list. If you have defined your CarData class correctly according to the specifications provided in Problem 5"
   ]
  },
  {
   "cell_type": "code",
   "execution_count": 12,
   "metadata": {},
   "outputs": [],
   "source": [
    "with open('carssample35.txt') as csvfile: \n",
    "    readCSV2 = csv.reader(csvfile) #open teh file again as a CSV so not to be confused with above rename readCSV2\n",
    "    ListofCars = [] #to be the list of car data objects\n",
    "    for row in readCSV2:      #read in the individual rows of the file \n",
    "        car = CarData(row[0],row[1],row[2],row[3],row[4],row[5],row[6])\n",
    "        #creates the car objects with 7 features from our class\n",
    "        ListofCars.append(car) #streaming in car data OBJECTS to the list we created above "
   ]
  },
  {
   "cell_type": "code",
   "execution_count": 13,
   "metadata": {},
   "outputs": [
    {
     "data": {
      "text/plain": [
       "[<__main__.CarData at 0x7fc9590b3f90>,\n",
       " <__main__.CarData at 0x7fc9590b7790>,\n",
       " <__main__.CarData at 0x7fc9590b7950>,\n",
       " <__main__.CarData at 0x7fc9590b7b10>,\n",
       " <__main__.CarData at 0x7fc9590b7cd0>,\n",
       " <__main__.CarData at 0x7fc9590b7e50>,\n",
       " <__main__.CarData at 0x7fc9590ba050>,\n",
       " <__main__.CarData at 0x7fc9590ba210>,\n",
       " <__main__.CarData at 0x7fc9590ba390>,\n",
       " <__main__.CarData at 0x7fc9590ba510>,\n",
       " <__main__.CarData at 0x7fc9590ba650>,\n",
       " <__main__.CarData at 0x7fc9590ba7d0>,\n",
       " <__main__.CarData at 0x7fc9590ba990>,\n",
       " <__main__.CarData at 0x7fc9590bab10>,\n",
       " <__main__.CarData at 0x7fc9590bacd0>,\n",
       " <__main__.CarData at 0x7fc9590bae90>,\n",
       " <__main__.CarData at 0x7fc9590bc050>,\n",
       " <__main__.CarData at 0x7fc9590bc190>,\n",
       " <__main__.CarData at 0x7fc9590bc350>,\n",
       " <__main__.CarData at 0x7fc9590bc510>,\n",
       " <__main__.CarData at 0x7fc9590bc690>,\n",
       " <__main__.CarData at 0x7fc9590bc810>,\n",
       " <__main__.CarData at 0x7fc9590bc990>,\n",
       " <__main__.CarData at 0x7fc9590bcb50>,\n",
       " <__main__.CarData at 0x7fc9590bccd0>,\n",
       " <__main__.CarData at 0x7fc9590bce50>,\n",
       " <__main__.CarData at 0x7fc9590be050>,\n",
       " <__main__.CarData at 0x7fc9590be1d0>,\n",
       " <__main__.CarData at 0x7fc9590be350>,\n",
       " <__main__.CarData at 0x7fc9590be4d0>,\n",
       " <__main__.CarData at 0x7fc9590be690>,\n",
       " <__main__.CarData at 0x7fc9590be810>,\n",
       " <__main__.CarData at 0x7fc9590be990>,\n",
       " <__main__.CarData at 0x7fc9590beb50>,\n",
       " <__main__.CarData at 0x7fc9590becd0>]"
      ]
     },
     "execution_count": 13,
     "metadata": {},
     "output_type": "execute_result"
    }
   ],
   "source": [
    "ListofCars #this tests to see if there are indeed class objects"
   ]
  },
  {
   "cell_type": "code",
   "execution_count": 14,
   "metadata": {},
   "outputs": [
    {
     "data": {
      "text/plain": [
       "35"
      ]
     },
     "execution_count": 14,
     "metadata": {},
     "output_type": "execute_result"
    }
   ],
   "source": [
    "len(ListofCars) #number of indivudual cars"
   ]
  },
  {
   "cell_type": "code",
   "execution_count": 15,
   "metadata": {},
   "outputs": [
    {
     "data": {
      "text/plain": [
       "2"
      ]
     },
     "execution_count": 15,
     "metadata": {},
     "output_type": "execute_result"
    }
   ],
   "source": [
    "ListofCars[2].uniqueID #test the unique ID of the 2nd member of the list of objects"
   ]
  },
  {
   "cell_type": "markdown",
   "metadata": {},
   "source": [
    "Find the uniqueID for each car having 2 doors and 'big' luggage, create a list and print"
   ]
  },
  {
   "cell_type": "code",
   "execution_count": 16,
   "metadata": {},
   "outputs": [],
   "source": [
    "two_door_luggage_big = [] #create our list for objects that meet our conditions"
   ]
  },
  {
   "cell_type": "code",
   "execution_count": 17,
   "metadata": {},
   "outputs": [
    {
     "name": "stdout",
     "output_type": "stream",
     "text": [
      "[3, 12, 19, 23]\n"
     ]
    }
   ],
   "source": [
    "for i in range(len(ListofCars)): #iterate throughout the list\n",
    "    if ListofCars[i].Num_of_doors == '2' and ListofCars[i].Luggage_capacity == 'big': #two condtions of question\n",
    "        two_door_luggage_big.append(ListofCars[i].uniqueID) #add their uniqueID not object to our list \n",
    "print(two_door_luggage_big) #print"
   ]
  },
  {
   "cell_type": "code",
   "execution_count": null,
   "metadata": {},
   "outputs": [],
   "source": []
  },
  {
   "cell_type": "code",
   "execution_count": null,
   "metadata": {},
   "outputs": [],
   "source": []
  },
  {
   "cell_type": "code",
   "execution_count": null,
   "metadata": {},
   "outputs": [],
   "source": []
  },
  {
   "cell_type": "code",
   "execution_count": null,
   "metadata": {},
   "outputs": [],
   "source": []
  }
 ],
 "metadata": {
  "kernelspec": {
   "display_name": "Python 3",
   "language": "python",
   "name": "python3"
  },
  "language_info": {
   "codemirror_mode": {
    "name": "ipython",
    "version": 3
   },
   "file_extension": ".py",
   "mimetype": "text/x-python",
   "name": "python",
   "nbconvert_exporter": "python",
   "pygments_lexer": "ipython3",
   "version": "3.7.4"
  }
 },
 "nbformat": 4,
 "nbformat_minor": 2
}
