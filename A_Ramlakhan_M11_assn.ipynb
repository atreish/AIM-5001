{
 "cells": [
  {
   "cell_type": "raw",
   "metadata": {},
   "source": [
    "Atreish Ramlakhan\n",
    "AIM 5001: HW11\n",
    "Professor James Topor\n",
    "Spring 2021"
   ]
  },
  {
   "cell_type": "code",
   "execution_count": 1,
   "metadata": {},
   "outputs": [],
   "source": [
    "import numpy as np\n",
    "import pandas as pd\n",
    "import math\n",
    "import matplotlib.pyplot as plt\n",
    "import seaborn as sns"
   ]
  },
  {
   "cell_type": "markdown",
   "metadata": {},
   "source": [
    "# Part I: Tidying and Reshaping Data"
   ]
  },
  {
   "cell_type": "code",
   "execution_count": 2,
   "metadata": {},
   "outputs": [
    {
     "data": {
      "text/html": [
       "<div>\n",
       "<style scoped>\n",
       "    .dataframe tbody tr th:only-of-type {\n",
       "        vertical-align: middle;\n",
       "    }\n",
       "\n",
       "    .dataframe tbody tr th {\n",
       "        vertical-align: top;\n",
       "    }\n",
       "\n",
       "    .dataframe thead th {\n",
       "        text-align: right;\n",
       "    }\n",
       "</style>\n",
       "<table border=\"1\" class=\"dataframe\">\n",
       "  <thead>\n",
       "    <tr style=\"text-align: right;\">\n",
       "      <th></th>\n",
       "      <th>Unnamed: 0</th>\n",
       "      <th>Unnamed: 1</th>\n",
       "      <th>Los Angeles</th>\n",
       "      <th>Phoenix</th>\n",
       "      <th>San Diego</th>\n",
       "      <th>San Francisco</th>\n",
       "      <th>Seattle</th>\n",
       "    </tr>\n",
       "  </thead>\n",
       "  <tbody>\n",
       "    <tr>\n",
       "      <td>0</td>\n",
       "      <td>ALASKA</td>\n",
       "      <td>on time</td>\n",
       "      <td>497.0</td>\n",
       "      <td>221.0</td>\n",
       "      <td>212.0</td>\n",
       "      <td>503.0</td>\n",
       "      <td>1841.0</td>\n",
       "    </tr>\n",
       "    <tr>\n",
       "      <td>1</td>\n",
       "      <td>NaN</td>\n",
       "      <td>delayed</td>\n",
       "      <td>62.0</td>\n",
       "      <td>12.0</td>\n",
       "      <td>20.0</td>\n",
       "      <td>102.0</td>\n",
       "      <td>305.0</td>\n",
       "    </tr>\n",
       "    <tr>\n",
       "      <td>2</td>\n",
       "      <td>NaN</td>\n",
       "      <td>NaN</td>\n",
       "      <td>NaN</td>\n",
       "      <td>NaN</td>\n",
       "      <td>NaN</td>\n",
       "      <td>NaN</td>\n",
       "      <td>NaN</td>\n",
       "    </tr>\n",
       "    <tr>\n",
       "      <td>3</td>\n",
       "      <td>AMWEST</td>\n",
       "      <td>on time</td>\n",
       "      <td>694.0</td>\n",
       "      <td>4840.0</td>\n",
       "      <td>383.0</td>\n",
       "      <td>320.0</td>\n",
       "      <td>201.0</td>\n",
       "    </tr>\n",
       "    <tr>\n",
       "      <td>4</td>\n",
       "      <td>NaN</td>\n",
       "      <td>delayed</td>\n",
       "      <td>117.0</td>\n",
       "      <td>415.0</td>\n",
       "      <td>65.0</td>\n",
       "      <td>129.0</td>\n",
       "      <td>61.0</td>\n",
       "    </tr>\n",
       "  </tbody>\n",
       "</table>\n",
       "</div>"
      ],
      "text/plain": [
       "  Unnamed: 0 Unnamed: 1  Los Angeles  Phoenix  San Diego  San Francisco  \\\n",
       "0     ALASKA    on time        497.0    221.0      212.0          503.0   \n",
       "1        NaN    delayed         62.0     12.0       20.0          102.0   \n",
       "2        NaN        NaN          NaN      NaN        NaN            NaN   \n",
       "3     AMWEST    on time        694.0   4840.0      383.0          320.0   \n",
       "4        NaN    delayed        117.0    415.0       65.0          129.0   \n",
       "\n",
       "   Seattle  \n",
       "0   1841.0  \n",
       "1    305.0  \n",
       "2      NaN  \n",
       "3    201.0  \n",
       "4     61.0  "
      ]
     },
     "execution_count": 2,
     "metadata": {},
     "output_type": "execute_result"
    }
   ],
   "source": [
    "#Loading data from Github link\n",
    "Data = pd.read_csv('https://raw.githubusercontent.com/atreish/AIM-5001/main/M11_Data%20(1).csv')\n",
    "Data"
   ]
  },
  {
   "cell_type": "markdown",
   "metadata": {},
   "source": [
    "# 1.1 \n",
    "Use your knowledge of combining and reshaping data in Pandas to tidy and transform/reshape the data contained within the dataframe. To get started, think about how you would want the data to appear if it were converted to “long” format, e.g., how would you define a “single observation” for the data shown in the graphic?; How many key values are associated with each data value?; How many columns should your long format structure contain based on the information provided in the graphic shown above?; What would the column headings for the long structure be?; etc. Use your answers to these questions to guide your reshaping/transformational work on the data. Your reshaping/transformational steps must include converting the above table to a “tidy” long format. Additional transformational steps (e.g., filling in missing data values, renaming columns, etc.) should be performed as needed to ensure that your data is, in fact, “tidy”."
   ]
  },
  {
   "cell_type": "markdown",
   "metadata": {},
   "source": [
    "We have an entire row of NaN values, so we apply the drop function to remove it"
   ]
  },
  {
   "cell_type": "code",
   "execution_count": 3,
   "metadata": {},
   "outputs": [
    {
     "data": {
      "text/html": [
       "<div>\n",
       "<style scoped>\n",
       "    .dataframe tbody tr th:only-of-type {\n",
       "        vertical-align: middle;\n",
       "    }\n",
       "\n",
       "    .dataframe tbody tr th {\n",
       "        vertical-align: top;\n",
       "    }\n",
       "\n",
       "    .dataframe thead th {\n",
       "        text-align: right;\n",
       "    }\n",
       "</style>\n",
       "<table border=\"1\" class=\"dataframe\">\n",
       "  <thead>\n",
       "    <tr style=\"text-align: right;\">\n",
       "      <th></th>\n",
       "      <th>Unnamed: 0</th>\n",
       "      <th>Unnamed: 1</th>\n",
       "      <th>Los Angeles</th>\n",
       "      <th>Phoenix</th>\n",
       "      <th>San Diego</th>\n",
       "      <th>San Francisco</th>\n",
       "      <th>Seattle</th>\n",
       "    </tr>\n",
       "  </thead>\n",
       "  <tbody>\n",
       "    <tr>\n",
       "      <td>0</td>\n",
       "      <td>ALASKA</td>\n",
       "      <td>on time</td>\n",
       "      <td>497.0</td>\n",
       "      <td>221.0</td>\n",
       "      <td>212.0</td>\n",
       "      <td>503.0</td>\n",
       "      <td>1841.0</td>\n",
       "    </tr>\n",
       "    <tr>\n",
       "      <td>1</td>\n",
       "      <td>NaN</td>\n",
       "      <td>delayed</td>\n",
       "      <td>62.0</td>\n",
       "      <td>12.0</td>\n",
       "      <td>20.0</td>\n",
       "      <td>102.0</td>\n",
       "      <td>305.0</td>\n",
       "    </tr>\n",
       "    <tr>\n",
       "      <td>3</td>\n",
       "      <td>AMWEST</td>\n",
       "      <td>on time</td>\n",
       "      <td>694.0</td>\n",
       "      <td>4840.0</td>\n",
       "      <td>383.0</td>\n",
       "      <td>320.0</td>\n",
       "      <td>201.0</td>\n",
       "    </tr>\n",
       "    <tr>\n",
       "      <td>4</td>\n",
       "      <td>NaN</td>\n",
       "      <td>delayed</td>\n",
       "      <td>117.0</td>\n",
       "      <td>415.0</td>\n",
       "      <td>65.0</td>\n",
       "      <td>129.0</td>\n",
       "      <td>61.0</td>\n",
       "    </tr>\n",
       "  </tbody>\n",
       "</table>\n",
       "</div>"
      ],
      "text/plain": [
       "  Unnamed: 0 Unnamed: 1  Los Angeles  Phoenix  San Diego  San Francisco  \\\n",
       "0     ALASKA    on time        497.0    221.0      212.0          503.0   \n",
       "1        NaN    delayed         62.0     12.0       20.0          102.0   \n",
       "3     AMWEST    on time        694.0   4840.0      383.0          320.0   \n",
       "4        NaN    delayed        117.0    415.0       65.0          129.0   \n",
       "\n",
       "   Seattle  \n",
       "0   1841.0  \n",
       "1    305.0  \n",
       "3    201.0  \n",
       "4     61.0  "
      ]
     },
     "execution_count": 3,
     "metadata": {},
     "output_type": "execute_result"
    }
   ],
   "source": [
    "Data = Data.drop(index=2)\n",
    "Data"
   ]
  },
  {
   "cell_type": "markdown",
   "metadata": {},
   "source": [
    "Now we will apply the melt method from pandas so that we can have one observation (i.e. in this DataFrame a numeric value) for each row. This will require we make the columns of the Destination cities an attribute or variable in a particular column, so each row is represented by a unique combination of the attributes"
   ]
  },
  {
   "cell_type": "code",
   "execution_count": 4,
   "metadata": {},
   "outputs": [
    {
     "data": {
      "text/html": [
       "<div>\n",
       "<style scoped>\n",
       "    .dataframe tbody tr th:only-of-type {\n",
       "        vertical-align: middle;\n",
       "    }\n",
       "\n",
       "    .dataframe tbody tr th {\n",
       "        vertical-align: top;\n",
       "    }\n",
       "\n",
       "    .dataframe thead th {\n",
       "        text-align: right;\n",
       "    }\n",
       "</style>\n",
       "<table border=\"1\" class=\"dataframe\">\n",
       "  <thead>\n",
       "    <tr style=\"text-align: right;\">\n",
       "      <th></th>\n",
       "      <th>Unnamed: 0</th>\n",
       "      <th>Unnamed: 1</th>\n",
       "      <th>variable</th>\n",
       "      <th>value</th>\n",
       "    </tr>\n",
       "  </thead>\n",
       "  <tbody>\n",
       "    <tr>\n",
       "      <td>0</td>\n",
       "      <td>ALASKA</td>\n",
       "      <td>on time</td>\n",
       "      <td>Los Angeles</td>\n",
       "      <td>497.0</td>\n",
       "    </tr>\n",
       "    <tr>\n",
       "      <td>1</td>\n",
       "      <td>NaN</td>\n",
       "      <td>delayed</td>\n",
       "      <td>Los Angeles</td>\n",
       "      <td>62.0</td>\n",
       "    </tr>\n",
       "    <tr>\n",
       "      <td>2</td>\n",
       "      <td>AMWEST</td>\n",
       "      <td>on time</td>\n",
       "      <td>Los Angeles</td>\n",
       "      <td>694.0</td>\n",
       "    </tr>\n",
       "    <tr>\n",
       "      <td>3</td>\n",
       "      <td>NaN</td>\n",
       "      <td>delayed</td>\n",
       "      <td>Los Angeles</td>\n",
       "      <td>117.0</td>\n",
       "    </tr>\n",
       "    <tr>\n",
       "      <td>4</td>\n",
       "      <td>ALASKA</td>\n",
       "      <td>on time</td>\n",
       "      <td>Phoenix</td>\n",
       "      <td>221.0</td>\n",
       "    </tr>\n",
       "    <tr>\n",
       "      <td>5</td>\n",
       "      <td>NaN</td>\n",
       "      <td>delayed</td>\n",
       "      <td>Phoenix</td>\n",
       "      <td>12.0</td>\n",
       "    </tr>\n",
       "    <tr>\n",
       "      <td>6</td>\n",
       "      <td>AMWEST</td>\n",
       "      <td>on time</td>\n",
       "      <td>Phoenix</td>\n",
       "      <td>4840.0</td>\n",
       "    </tr>\n",
       "    <tr>\n",
       "      <td>7</td>\n",
       "      <td>NaN</td>\n",
       "      <td>delayed</td>\n",
       "      <td>Phoenix</td>\n",
       "      <td>415.0</td>\n",
       "    </tr>\n",
       "    <tr>\n",
       "      <td>8</td>\n",
       "      <td>ALASKA</td>\n",
       "      <td>on time</td>\n",
       "      <td>San Diego</td>\n",
       "      <td>212.0</td>\n",
       "    </tr>\n",
       "    <tr>\n",
       "      <td>9</td>\n",
       "      <td>NaN</td>\n",
       "      <td>delayed</td>\n",
       "      <td>San Diego</td>\n",
       "      <td>20.0</td>\n",
       "    </tr>\n",
       "    <tr>\n",
       "      <td>10</td>\n",
       "      <td>AMWEST</td>\n",
       "      <td>on time</td>\n",
       "      <td>San Diego</td>\n",
       "      <td>383.0</td>\n",
       "    </tr>\n",
       "    <tr>\n",
       "      <td>11</td>\n",
       "      <td>NaN</td>\n",
       "      <td>delayed</td>\n",
       "      <td>San Diego</td>\n",
       "      <td>65.0</td>\n",
       "    </tr>\n",
       "    <tr>\n",
       "      <td>12</td>\n",
       "      <td>ALASKA</td>\n",
       "      <td>on time</td>\n",
       "      <td>San Francisco</td>\n",
       "      <td>503.0</td>\n",
       "    </tr>\n",
       "    <tr>\n",
       "      <td>13</td>\n",
       "      <td>NaN</td>\n",
       "      <td>delayed</td>\n",
       "      <td>San Francisco</td>\n",
       "      <td>102.0</td>\n",
       "    </tr>\n",
       "    <tr>\n",
       "      <td>14</td>\n",
       "      <td>AMWEST</td>\n",
       "      <td>on time</td>\n",
       "      <td>San Francisco</td>\n",
       "      <td>320.0</td>\n",
       "    </tr>\n",
       "    <tr>\n",
       "      <td>15</td>\n",
       "      <td>NaN</td>\n",
       "      <td>delayed</td>\n",
       "      <td>San Francisco</td>\n",
       "      <td>129.0</td>\n",
       "    </tr>\n",
       "    <tr>\n",
       "      <td>16</td>\n",
       "      <td>ALASKA</td>\n",
       "      <td>on time</td>\n",
       "      <td>Seattle</td>\n",
       "      <td>1841.0</td>\n",
       "    </tr>\n",
       "    <tr>\n",
       "      <td>17</td>\n",
       "      <td>NaN</td>\n",
       "      <td>delayed</td>\n",
       "      <td>Seattle</td>\n",
       "      <td>305.0</td>\n",
       "    </tr>\n",
       "    <tr>\n",
       "      <td>18</td>\n",
       "      <td>AMWEST</td>\n",
       "      <td>on time</td>\n",
       "      <td>Seattle</td>\n",
       "      <td>201.0</td>\n",
       "    </tr>\n",
       "    <tr>\n",
       "      <td>19</td>\n",
       "      <td>NaN</td>\n",
       "      <td>delayed</td>\n",
       "      <td>Seattle</td>\n",
       "      <td>61.0</td>\n",
       "    </tr>\n",
       "  </tbody>\n",
       "</table>\n",
       "</div>"
      ],
      "text/plain": [
       "   Unnamed: 0 Unnamed: 1       variable   value\n",
       "0      ALASKA    on time    Los Angeles   497.0\n",
       "1         NaN    delayed    Los Angeles    62.0\n",
       "2      AMWEST    on time    Los Angeles   694.0\n",
       "3         NaN    delayed    Los Angeles   117.0\n",
       "4      ALASKA    on time        Phoenix   221.0\n",
       "5         NaN    delayed        Phoenix    12.0\n",
       "6      AMWEST    on time        Phoenix  4840.0\n",
       "7         NaN    delayed        Phoenix   415.0\n",
       "8      ALASKA    on time      San Diego   212.0\n",
       "9         NaN    delayed      San Diego    20.0\n",
       "10     AMWEST    on time      San Diego   383.0\n",
       "11        NaN    delayed      San Diego    65.0\n",
       "12     ALASKA    on time  San Francisco   503.0\n",
       "13        NaN    delayed  San Francisco   102.0\n",
       "14     AMWEST    on time  San Francisco   320.0\n",
       "15        NaN    delayed  San Francisco   129.0\n",
       "16     ALASKA    on time        Seattle  1841.0\n",
       "17        NaN    delayed        Seattle   305.0\n",
       "18     AMWEST    on time        Seattle   201.0\n",
       "19        NaN    delayed        Seattle    61.0"
      ]
     },
     "execution_count": 4,
     "metadata": {},
     "output_type": "execute_result"
    }
   ],
   "source": [
    "Data = Data.melt(id_vars = ['Unnamed: 0', 'Unnamed: 1'], \n",
    "                   value_vars = ['Los Angeles','Phoenix', 'San Diego', 'San Francisco', 'Seattle'])\n",
    "Data"
   ]
  },
  {
   "cell_type": "markdown",
   "metadata": {},
   "source": [
    "Now that our data is in \"Long\" format, we will do some data cleaning work. We begin by removing all the NAN values, which are the Airline name from the above cell, the following code allows us to use the previous cell to fill it in place."
   ]
  },
  {
   "cell_type": "code",
   "execution_count": 5,
   "metadata": {},
   "outputs": [
    {
     "data": {
      "text/html": [
       "<div>\n",
       "<style scoped>\n",
       "    .dataframe tbody tr th:only-of-type {\n",
       "        vertical-align: middle;\n",
       "    }\n",
       "\n",
       "    .dataframe tbody tr th {\n",
       "        vertical-align: top;\n",
       "    }\n",
       "\n",
       "    .dataframe thead th {\n",
       "        text-align: right;\n",
       "    }\n",
       "</style>\n",
       "<table border=\"1\" class=\"dataframe\">\n",
       "  <thead>\n",
       "    <tr style=\"text-align: right;\">\n",
       "      <th></th>\n",
       "      <th>Unnamed: 0</th>\n",
       "      <th>Unnamed: 1</th>\n",
       "      <th>variable</th>\n",
       "      <th>value</th>\n",
       "    </tr>\n",
       "  </thead>\n",
       "  <tbody>\n",
       "    <tr>\n",
       "      <td>0</td>\n",
       "      <td>ALASKA</td>\n",
       "      <td>on time</td>\n",
       "      <td>Los Angeles</td>\n",
       "      <td>497.0</td>\n",
       "    </tr>\n",
       "    <tr>\n",
       "      <td>1</td>\n",
       "      <td>ALASKA</td>\n",
       "      <td>delayed</td>\n",
       "      <td>Los Angeles</td>\n",
       "      <td>62.0</td>\n",
       "    </tr>\n",
       "    <tr>\n",
       "      <td>2</td>\n",
       "      <td>AMWEST</td>\n",
       "      <td>on time</td>\n",
       "      <td>Los Angeles</td>\n",
       "      <td>694.0</td>\n",
       "    </tr>\n",
       "    <tr>\n",
       "      <td>3</td>\n",
       "      <td>AMWEST</td>\n",
       "      <td>delayed</td>\n",
       "      <td>Los Angeles</td>\n",
       "      <td>117.0</td>\n",
       "    </tr>\n",
       "    <tr>\n",
       "      <td>4</td>\n",
       "      <td>ALASKA</td>\n",
       "      <td>on time</td>\n",
       "      <td>Phoenix</td>\n",
       "      <td>221.0</td>\n",
       "    </tr>\n",
       "    <tr>\n",
       "      <td>5</td>\n",
       "      <td>ALASKA</td>\n",
       "      <td>delayed</td>\n",
       "      <td>Phoenix</td>\n",
       "      <td>12.0</td>\n",
       "    </tr>\n",
       "    <tr>\n",
       "      <td>6</td>\n",
       "      <td>AMWEST</td>\n",
       "      <td>on time</td>\n",
       "      <td>Phoenix</td>\n",
       "      <td>4840.0</td>\n",
       "    </tr>\n",
       "    <tr>\n",
       "      <td>7</td>\n",
       "      <td>AMWEST</td>\n",
       "      <td>delayed</td>\n",
       "      <td>Phoenix</td>\n",
       "      <td>415.0</td>\n",
       "    </tr>\n",
       "    <tr>\n",
       "      <td>8</td>\n",
       "      <td>ALASKA</td>\n",
       "      <td>on time</td>\n",
       "      <td>San Diego</td>\n",
       "      <td>212.0</td>\n",
       "    </tr>\n",
       "    <tr>\n",
       "      <td>9</td>\n",
       "      <td>ALASKA</td>\n",
       "      <td>delayed</td>\n",
       "      <td>San Diego</td>\n",
       "      <td>20.0</td>\n",
       "    </tr>\n",
       "    <tr>\n",
       "      <td>10</td>\n",
       "      <td>AMWEST</td>\n",
       "      <td>on time</td>\n",
       "      <td>San Diego</td>\n",
       "      <td>383.0</td>\n",
       "    </tr>\n",
       "    <tr>\n",
       "      <td>11</td>\n",
       "      <td>AMWEST</td>\n",
       "      <td>delayed</td>\n",
       "      <td>San Diego</td>\n",
       "      <td>65.0</td>\n",
       "    </tr>\n",
       "    <tr>\n",
       "      <td>12</td>\n",
       "      <td>ALASKA</td>\n",
       "      <td>on time</td>\n",
       "      <td>San Francisco</td>\n",
       "      <td>503.0</td>\n",
       "    </tr>\n",
       "    <tr>\n",
       "      <td>13</td>\n",
       "      <td>ALASKA</td>\n",
       "      <td>delayed</td>\n",
       "      <td>San Francisco</td>\n",
       "      <td>102.0</td>\n",
       "    </tr>\n",
       "    <tr>\n",
       "      <td>14</td>\n",
       "      <td>AMWEST</td>\n",
       "      <td>on time</td>\n",
       "      <td>San Francisco</td>\n",
       "      <td>320.0</td>\n",
       "    </tr>\n",
       "    <tr>\n",
       "      <td>15</td>\n",
       "      <td>AMWEST</td>\n",
       "      <td>delayed</td>\n",
       "      <td>San Francisco</td>\n",
       "      <td>129.0</td>\n",
       "    </tr>\n",
       "    <tr>\n",
       "      <td>16</td>\n",
       "      <td>ALASKA</td>\n",
       "      <td>on time</td>\n",
       "      <td>Seattle</td>\n",
       "      <td>1841.0</td>\n",
       "    </tr>\n",
       "    <tr>\n",
       "      <td>17</td>\n",
       "      <td>ALASKA</td>\n",
       "      <td>delayed</td>\n",
       "      <td>Seattle</td>\n",
       "      <td>305.0</td>\n",
       "    </tr>\n",
       "    <tr>\n",
       "      <td>18</td>\n",
       "      <td>AMWEST</td>\n",
       "      <td>on time</td>\n",
       "      <td>Seattle</td>\n",
       "      <td>201.0</td>\n",
       "    </tr>\n",
       "    <tr>\n",
       "      <td>19</td>\n",
       "      <td>AMWEST</td>\n",
       "      <td>delayed</td>\n",
       "      <td>Seattle</td>\n",
       "      <td>61.0</td>\n",
       "    </tr>\n",
       "  </tbody>\n",
       "</table>\n",
       "</div>"
      ],
      "text/plain": [
       "   Unnamed: 0 Unnamed: 1       variable   value\n",
       "0      ALASKA    on time    Los Angeles   497.0\n",
       "1      ALASKA    delayed    Los Angeles    62.0\n",
       "2      AMWEST    on time    Los Angeles   694.0\n",
       "3      AMWEST    delayed    Los Angeles   117.0\n",
       "4      ALASKA    on time        Phoenix   221.0\n",
       "5      ALASKA    delayed        Phoenix    12.0\n",
       "6      AMWEST    on time        Phoenix  4840.0\n",
       "7      AMWEST    delayed        Phoenix   415.0\n",
       "8      ALASKA    on time      San Diego   212.0\n",
       "9      ALASKA    delayed      San Diego    20.0\n",
       "10     AMWEST    on time      San Diego   383.0\n",
       "11     AMWEST    delayed      San Diego    65.0\n",
       "12     ALASKA    on time  San Francisco   503.0\n",
       "13     ALASKA    delayed  San Francisco   102.0\n",
       "14     AMWEST    on time  San Francisco   320.0\n",
       "15     AMWEST    delayed  San Francisco   129.0\n",
       "16     ALASKA    on time        Seattle  1841.0\n",
       "17     ALASKA    delayed        Seattle   305.0\n",
       "18     AMWEST    on time        Seattle   201.0\n",
       "19     AMWEST    delayed        Seattle    61.0"
      ]
     },
     "execution_count": 5,
     "metadata": {},
     "output_type": "execute_result"
    }
   ],
   "source": [
    "Data['Unnamed: 0'].fillna(method='ffill', inplace = True)\n",
    "Data"
   ]
  },
  {
   "cell_type": "markdown",
   "metadata": {},
   "source": [
    "Now we rename the columns appropriately for the new DataFrame"
   ]
  },
  {
   "cell_type": "code",
   "execution_count": 6,
   "metadata": {},
   "outputs": [
    {
     "data": {
      "text/html": [
       "<div>\n",
       "<style scoped>\n",
       "    .dataframe tbody tr th:only-of-type {\n",
       "        vertical-align: middle;\n",
       "    }\n",
       "\n",
       "    .dataframe tbody tr th {\n",
       "        vertical-align: top;\n",
       "    }\n",
       "\n",
       "    .dataframe thead th {\n",
       "        text-align: right;\n",
       "    }\n",
       "</style>\n",
       "<table border=\"1\" class=\"dataframe\">\n",
       "  <thead>\n",
       "    <tr style=\"text-align: right;\">\n",
       "      <th></th>\n",
       "      <th>Airline</th>\n",
       "      <th>Status</th>\n",
       "      <th>City</th>\n",
       "      <th>Count</th>\n",
       "    </tr>\n",
       "  </thead>\n",
       "  <tbody>\n",
       "    <tr>\n",
       "      <td>0</td>\n",
       "      <td>ALASKA</td>\n",
       "      <td>on time</td>\n",
       "      <td>Los Angeles</td>\n",
       "      <td>497.0</td>\n",
       "    </tr>\n",
       "    <tr>\n",
       "      <td>1</td>\n",
       "      <td>ALASKA</td>\n",
       "      <td>delayed</td>\n",
       "      <td>Los Angeles</td>\n",
       "      <td>62.0</td>\n",
       "    </tr>\n",
       "    <tr>\n",
       "      <td>2</td>\n",
       "      <td>AMWEST</td>\n",
       "      <td>on time</td>\n",
       "      <td>Los Angeles</td>\n",
       "      <td>694.0</td>\n",
       "    </tr>\n",
       "    <tr>\n",
       "      <td>3</td>\n",
       "      <td>AMWEST</td>\n",
       "      <td>delayed</td>\n",
       "      <td>Los Angeles</td>\n",
       "      <td>117.0</td>\n",
       "    </tr>\n",
       "    <tr>\n",
       "      <td>4</td>\n",
       "      <td>ALASKA</td>\n",
       "      <td>on time</td>\n",
       "      <td>Phoenix</td>\n",
       "      <td>221.0</td>\n",
       "    </tr>\n",
       "    <tr>\n",
       "      <td>5</td>\n",
       "      <td>ALASKA</td>\n",
       "      <td>delayed</td>\n",
       "      <td>Phoenix</td>\n",
       "      <td>12.0</td>\n",
       "    </tr>\n",
       "    <tr>\n",
       "      <td>6</td>\n",
       "      <td>AMWEST</td>\n",
       "      <td>on time</td>\n",
       "      <td>Phoenix</td>\n",
       "      <td>4840.0</td>\n",
       "    </tr>\n",
       "    <tr>\n",
       "      <td>7</td>\n",
       "      <td>AMWEST</td>\n",
       "      <td>delayed</td>\n",
       "      <td>Phoenix</td>\n",
       "      <td>415.0</td>\n",
       "    </tr>\n",
       "    <tr>\n",
       "      <td>8</td>\n",
       "      <td>ALASKA</td>\n",
       "      <td>on time</td>\n",
       "      <td>San Diego</td>\n",
       "      <td>212.0</td>\n",
       "    </tr>\n",
       "    <tr>\n",
       "      <td>9</td>\n",
       "      <td>ALASKA</td>\n",
       "      <td>delayed</td>\n",
       "      <td>San Diego</td>\n",
       "      <td>20.0</td>\n",
       "    </tr>\n",
       "    <tr>\n",
       "      <td>10</td>\n",
       "      <td>AMWEST</td>\n",
       "      <td>on time</td>\n",
       "      <td>San Diego</td>\n",
       "      <td>383.0</td>\n",
       "    </tr>\n",
       "    <tr>\n",
       "      <td>11</td>\n",
       "      <td>AMWEST</td>\n",
       "      <td>delayed</td>\n",
       "      <td>San Diego</td>\n",
       "      <td>65.0</td>\n",
       "    </tr>\n",
       "    <tr>\n",
       "      <td>12</td>\n",
       "      <td>ALASKA</td>\n",
       "      <td>on time</td>\n",
       "      <td>San Francisco</td>\n",
       "      <td>503.0</td>\n",
       "    </tr>\n",
       "    <tr>\n",
       "      <td>13</td>\n",
       "      <td>ALASKA</td>\n",
       "      <td>delayed</td>\n",
       "      <td>San Francisco</td>\n",
       "      <td>102.0</td>\n",
       "    </tr>\n",
       "    <tr>\n",
       "      <td>14</td>\n",
       "      <td>AMWEST</td>\n",
       "      <td>on time</td>\n",
       "      <td>San Francisco</td>\n",
       "      <td>320.0</td>\n",
       "    </tr>\n",
       "    <tr>\n",
       "      <td>15</td>\n",
       "      <td>AMWEST</td>\n",
       "      <td>delayed</td>\n",
       "      <td>San Francisco</td>\n",
       "      <td>129.0</td>\n",
       "    </tr>\n",
       "    <tr>\n",
       "      <td>16</td>\n",
       "      <td>ALASKA</td>\n",
       "      <td>on time</td>\n",
       "      <td>Seattle</td>\n",
       "      <td>1841.0</td>\n",
       "    </tr>\n",
       "    <tr>\n",
       "      <td>17</td>\n",
       "      <td>ALASKA</td>\n",
       "      <td>delayed</td>\n",
       "      <td>Seattle</td>\n",
       "      <td>305.0</td>\n",
       "    </tr>\n",
       "    <tr>\n",
       "      <td>18</td>\n",
       "      <td>AMWEST</td>\n",
       "      <td>on time</td>\n",
       "      <td>Seattle</td>\n",
       "      <td>201.0</td>\n",
       "    </tr>\n",
       "    <tr>\n",
       "      <td>19</td>\n",
       "      <td>AMWEST</td>\n",
       "      <td>delayed</td>\n",
       "      <td>Seattle</td>\n",
       "      <td>61.0</td>\n",
       "    </tr>\n",
       "  </tbody>\n",
       "</table>\n",
       "</div>"
      ],
      "text/plain": [
       "   Airline   Status           City   Count\n",
       "0   ALASKA  on time    Los Angeles   497.0\n",
       "1   ALASKA  delayed    Los Angeles    62.0\n",
       "2   AMWEST  on time    Los Angeles   694.0\n",
       "3   AMWEST  delayed    Los Angeles   117.0\n",
       "4   ALASKA  on time        Phoenix   221.0\n",
       "5   ALASKA  delayed        Phoenix    12.0\n",
       "6   AMWEST  on time        Phoenix  4840.0\n",
       "7   AMWEST  delayed        Phoenix   415.0\n",
       "8   ALASKA  on time      San Diego   212.0\n",
       "9   ALASKA  delayed      San Diego    20.0\n",
       "10  AMWEST  on time      San Diego   383.0\n",
       "11  AMWEST  delayed      San Diego    65.0\n",
       "12  ALASKA  on time  San Francisco   503.0\n",
       "13  ALASKA  delayed  San Francisco   102.0\n",
       "14  AMWEST  on time  San Francisco   320.0\n",
       "15  AMWEST  delayed  San Francisco   129.0\n",
       "16  ALASKA  on time        Seattle  1841.0\n",
       "17  ALASKA  delayed        Seattle   305.0\n",
       "18  AMWEST  on time        Seattle   201.0\n",
       "19  AMWEST  delayed        Seattle    61.0"
      ]
     },
     "execution_count": 6,
     "metadata": {},
     "output_type": "execute_result"
    }
   ],
   "source": [
    "Data.columns = ['Airline', 'Status', 'City', 'Count']\n",
    "Data"
   ]
  },
  {
   "cell_type": "markdown",
   "metadata": {},
   "source": [
    "Finally, DataFrame is in our \"tidy\" Long format. Airline first, then Status, then City."
   ]
  },
  {
   "cell_type": "markdown",
   "metadata": {},
   "source": [
    "# 1.2\n",
    "Using your reshaped/transformed data, perform analysis to compare the arrival delays for the two airlines. Two questions you must answer: For each city, which airline had the best on time performance?; Which airline had the best overall on time performance?; etc. Feel free to define and answer additional questions of your own choosing"
   ]
  },
  {
   "cell_type": "markdown",
   "metadata": {},
   "source": [
    "**Q: For each city, which airline had the best on time performance?**\n",
    "\n",
    "Answer: We will first have to do some calculations based on three indicies, first the city, airline and status. Then we will have to sum both counts of status, and then calculate the weight of the on time vs total."
   ]
  },
  {
   "cell_type": "markdown",
   "metadata": {},
   "source": [
    "Now we will extend the groupby function so that we can count the numebr of delays and on time flights  by airline from each city."
   ]
  },
  {
   "cell_type": "code",
   "execution_count": 7,
   "metadata": {},
   "outputs": [
    {
     "data": {
      "text/plain": [
       "City           Airline  Status \n",
       "Los Angeles    ALASKA   delayed      62.0\n",
       "                        on time     497.0\n",
       "               AMWEST   delayed     117.0\n",
       "                        on time     694.0\n",
       "Phoenix        ALASKA   delayed      12.0\n",
       "                        on time     221.0\n",
       "               AMWEST   delayed     415.0\n",
       "                        on time    4840.0\n",
       "San Diego      ALASKA   delayed      20.0\n",
       "                        on time     212.0\n",
       "               AMWEST   delayed      65.0\n",
       "                        on time     383.0\n",
       "San Francisco  ALASKA   delayed     102.0\n",
       "                        on time     503.0\n",
       "               AMWEST   delayed     129.0\n",
       "                        on time     320.0\n",
       "Seattle        ALASKA   delayed     305.0\n",
       "                        on time    1841.0\n",
       "               AMWEST   delayed      61.0\n",
       "                        on time     201.0\n",
       "Name: Count, dtype: float64"
      ]
     },
     "execution_count": 7,
     "metadata": {},
     "output_type": "execute_result"
    }
   ],
   "source": [
    "Data2 = Data.groupby(['City', 'Airline', 'Status']).Count.sum()\n",
    "Data2"
   ]
  },
  {
   "cell_type": "code",
   "execution_count": 8,
   "metadata": {},
   "outputs": [],
   "source": [
    "x = Data['Count']"
   ]
  },
  {
   "cell_type": "code",
   "execution_count": 9,
   "metadata": {},
   "outputs": [
    {
     "data": {
      "text/plain": [
       "array([ 497.,   62.,  694.,  117.,  221.,   12., 4840.,  415.,  212.,\n",
       "         20.,  383.,   65.,  503.,  102.,  320.,  129., 1841.,  305.,\n",
       "        201.,   61.])"
      ]
     },
     "execution_count": 9,
     "metadata": {},
     "output_type": "execute_result"
    }
   ],
   "source": [
    "#cast vector of counts to an array\n",
    "x1 = np.array(x)\n",
    "x1"
   ]
  },
  {
   "cell_type": "code",
   "execution_count": 10,
   "metadata": {},
   "outputs": [],
   "source": [
    "#cut the array into on time and delayed array\n",
    "On_time = x1[::2]\n",
    "Delayed = x1[1::2]"
   ]
  },
  {
   "cell_type": "code",
   "execution_count": 11,
   "metadata": {},
   "outputs": [
    {
     "name": "stdout",
     "output_type": "stream",
     "text": [
      "[ 497.  694.  221. 4840.  212.  383.  503.  320. 1841.  201.]\n",
      "[ 62. 117.  12. 415.  20.  65. 102. 129. 305.  61.]\n"
     ]
    }
   ],
   "source": [
    "print(On_time)\n",
    "print(Delayed)"
   ]
  },
  {
   "cell_type": "code",
   "execution_count": 12,
   "metadata": {},
   "outputs": [
    {
     "data": {
      "text/plain": [
       "[559.0, 811.0, 233.0, 5255.0, 232.0, 448.0, 605.0, 449.0, 2146.0, 262.0]"
      ]
     },
     "execution_count": 12,
     "metadata": {},
     "output_type": "execute_result"
    }
   ],
   "source": [
    "#calculate the sum of all fights per airline per destination, \n",
    "#i.e. first 2 represents Alaska and AMWest for Los Angeles\n",
    "totals = [sum(i) for i in zip(On_time, Delayed)]\n",
    "totals"
   ]
  },
  {
   "cell_type": "code",
   "execution_count": 13,
   "metadata": {},
   "outputs": [
    {
     "data": {
      "text/plain": [
       "array([0.88908766, 0.85573366, 0.94849785, 0.92102759, 0.9137931 ,\n",
       "       0.85491071, 0.83140496, 0.71269488, 0.85787512, 0.76717557])"
      ]
     },
     "execution_count": 13,
     "metadata": {},
     "output_type": "execute_result"
    }
   ],
   "source": [
    "#Calculate a performance ratio for each airline per destination\n",
    "Airlineperf = np.divide(On_time,totals)\n",
    "Airlineperf"
   ]
  },
  {
   "cell_type": "code",
   "execution_count": 14,
   "metadata": {},
   "outputs": [],
   "source": [
    "#Slice again by Airline\n",
    "Alaska_perf = Airlineperf[::2]\n",
    "Amwest_perf = Airlineperf[1::2]"
   ]
  },
  {
   "cell_type": "code",
   "execution_count": 15,
   "metadata": {},
   "outputs": [
    {
     "name": "stdout",
     "output_type": "stream",
     "text": [
      "[0.88908766 0.94849785 0.9137931  0.83140496 0.85787512]\n",
      "[0.85573366 0.92102759 0.85491071 0.71269488 0.76717557]\n"
     ]
    }
   ],
   "source": [
    "print(Alaska_perf)\n",
    "print(Amwest_perf)"
   ]
  },
  {
   "cell_type": "code",
   "execution_count": 16,
   "metadata": {},
   "outputs": [],
   "source": [
    "#Cast each as an array so we can insert into a for loop\n",
    "Alaska_perf = np.array(Alaska_perf)\n",
    "Amwest_perf = np.array(Amwest_perf)"
   ]
  },
  {
   "cell_type": "code",
   "execution_count": 17,
   "metadata": {},
   "outputs": [
    {
     "name": "stdout",
     "output_type": "stream",
     "text": [
      "[0.889087656529517, 0.9484978540772532, 0.9137931034482759, 0.8314049586776859, 0.8578751164958062]\n",
      "['ALASKA', 'ALASKA', 'ALASKA', 'ALASKA', 'ALASKA']\n"
     ]
    }
   ],
   "source": [
    "#This function determines which performance is better, using the simple > boolean and generates 2 lists of \n",
    "#the better perfromance metrics and which airline was better\n",
    "arr = []\n",
    "better_air = []\n",
    "\n",
    "list_length = len(Alaska_perf)\n",
    "\n",
    "for i in range(list_length):\n",
    "    if Alaska_perf[i] > Amwest_perf[i]:\n",
    "            arr.insert(i,Alaska_perf[i])\n",
    "            better_air.insert(i,'ALASKA')\n",
    "    else:\n",
    "            arr.insert(i,Amwest_perf[i])\n",
    "            better_air.insert(i,'AMWEST')\n",
    "print(arr)\n",
    "print(better_air)"
   ]
  },
  {
   "cell_type": "code",
   "execution_count": 18,
   "metadata": {},
   "outputs": [
    {
     "data": {
      "text/plain": [
       "array(['Los Angeles', 'Phoenix', 'San Diego', 'San Francisco', 'Seattle'],\n",
       "      dtype=object)"
      ]
     },
     "execution_count": 18,
     "metadata": {},
     "output_type": "execute_result"
    }
   ],
   "source": [
    "#Call the Cities\n",
    "cities = Data['City'].unique()\n",
    "cities"
   ]
  },
  {
   "cell_type": "code",
   "execution_count": 19,
   "metadata": {},
   "outputs": [
    {
     "name": "stdout",
     "output_type": "stream",
     "text": [
      "The Airline with better performance to Los Angeles, is ALASKA with an on time rate of 88.91%\n",
      "\n",
      "The Airline with better performance to Phoenix, is ALASKA with an on time rate of 94.85%\n",
      "\n",
      "The Airline with better performance to San Diego, is ALASKA with an on time rate of 91.38%\n",
      "\n",
      "The Airline with better performance to San Francisco, is ALASKA with an on time rate of 83.14%\n",
      "\n",
      "The Airline with better performance to Seattle, is ALASKA with an on time rate of 85.79%\n"
     ]
    }
   ],
   "source": [
    "#Finally print the metrics and better performing airline by city, and we have our desired Answer to the Question\n",
    "print('The Airline with better performance to {}, is {} with an on time rate of {:2.2%}'.format(cities[0],better_air[0],arr[0]))\n",
    "print('\\nThe Airline with better performance to {}, is {} with an on time rate of {:2.2%}'.format(cities[1],better_air[1],arr[1])) \n",
    "print('\\nThe Airline with better performance to {}, is {} with an on time rate of {:2.2%}'.format(cities[2],better_air[2],arr[2])) \n",
    "print('\\nThe Airline with better performance to {}, is {} with an on time rate of {:2.2%}'.format(cities[3],better_air[3],arr[3])) \n",
    "print('\\nThe Airline with better performance to {}, is {} with an on time rate of {:2.2%}'.format(cities[4],better_air[4],arr[4])) "
   ]
  },
  {
   "cell_type": "markdown",
   "metadata": {},
   "source": [
    "**Answer: As we see that for each destination, Alaska Airlines has a better performance rate than AMWEST**"
   ]
  },
  {
   "cell_type": "markdown",
   "metadata": {},
   "source": [
    "**Q: Which airline had the best overall on time performance?**"
   ]
  },
  {
   "cell_type": "markdown",
   "metadata": {},
   "source": [
    "First we create a simple groupby function of our data and then we sum the count so we have an aggregate statistics"
   ]
  },
  {
   "cell_type": "code",
   "execution_count": 20,
   "metadata": {},
   "outputs": [
    {
     "data": {
      "text/plain": [
       "Airline  Status \n",
       "ALASKA   delayed     501.0\n",
       "         on time    3274.0\n",
       "AMWEST   delayed     787.0\n",
       "         on time    6438.0\n",
       "Name: Count, dtype: float64"
      ]
     },
     "execution_count": 20,
     "metadata": {},
     "output_type": "execute_result"
    }
   ],
   "source": [
    "Data3 = Data.groupby(['Airline', 'Status']).Count.sum()\n",
    "Data3"
   ]
  },
  {
   "cell_type": "code",
   "execution_count": 21,
   "metadata": {},
   "outputs": [
    {
     "data": {
      "text/plain": [
       "array([ 501., 3274.,  787., 6438.])"
      ]
     },
     "execution_count": 21,
     "metadata": {},
     "output_type": "execute_result"
    }
   ],
   "source": [
    "#Cast to a NumPy array so we perform element wise calculations to get desire result\n",
    "h = np.array(Data3)\n",
    "h"
   ]
  },
  {
   "cell_type": "code",
   "execution_count": 22,
   "metadata": {},
   "outputs": [
    {
     "name": "stdout",
     "output_type": "stream",
     "text": [
      "The total performance rate for ALASKA Airlines is 86.73%\n",
      "\n",
      "The total performance rate for AMWEST Airlines is 89.11%\n"
     ]
    }
   ],
   "source": [
    "#Prints the desired result\n",
    "\n",
    "AL = h[1]/(h[0]+h[1])\n",
    "AM = h[3]/(h[2]+h[3])\n",
    "print('The total performance rate for ALASKA Airlines is {:2.2%}'.format(AL))\n",
    "print('\\nThe total performance rate for AMWEST Airlines is {:2.2%}'.format(AM))"
   ]
  },
  {
   "cell_type": "markdown",
   "metadata": {},
   "source": [
    "**Answer: The two airlines have very similar 'on time' performance rates, while AMWEST is better at 89.11%. But to notice in the following graphs that AMWEST has almost twice as many flights as ALASKA. This would explain the counterintuitive comparison between the first question where we saw that over each destination Alaska has better performance than AMWEST. However, in aggregate, AMWEST is better by a slight margin**"
   ]
  },
  {
   "cell_type": "markdown",
   "metadata": {},
   "source": [
    "Some other EDA graphs for general knowledge of this DataFrame\n",
    "Total trips by company. Notice that AMWEST took significantly more than ALASKA Air."
   ]
  },
  {
   "cell_type": "code",
   "execution_count": 23,
   "metadata": {},
   "outputs": [
    {
     "data": {
      "image/png": "[encoded data removed]",
      "text/plain": [
       "<Figure size 576x360 with 1 Axes>"
      ]
     },
     "metadata": {
      "needs_background": "light"
     },
     "output_type": "display_data"
    }
   ],
   "source": [
    "#Graph the total flights for each airline with Bar Graph\n",
    "DataAir = Data.groupby(['Airline']).mean()\n",
    "DataAir.plot(kind='bar', figsize=(8,5), colormap='tab20')\n",
    "plt.show()"
   ]
  },
  {
   "cell_type": "markdown",
   "metadata": {},
   "source": [
    "Let us examine the graph of the total values of arrivals by Status and City destination"
   ]
  },
  {
   "cell_type": "code",
   "execution_count": 24,
   "metadata": {},
   "outputs": [
    {
     "name": "stderr",
     "output_type": "stream",
     "text": [
      "/Users/atreish/opt/anaconda3/lib/python3.7/site-packages/seaborn/categorical.py:3666: UserWarning: The `factorplot` function has been renamed to `catplot`. The original name will be removed in a future release. Please update your code. Note that the default `kind` in `factorplot` (`'point'`) has changed `'strip'` in `catplot`.\n",
      "  warnings.warn(msg)\n"
     ]
    },
    {
     "data": {
      "text/plain": [
       "<seaborn.axisgrid.FacetGrid at 0x7fcc3eaf79d0>"
      ]
     },
     "execution_count": 24,
     "metadata": {},
     "output_type": "execute_result"
    },
    {
     "data": {
      "image/png": "[encoded data removed]",
      "text/plain": [
       "<Figure size 720x360 with 2 Axes>"
      ]
     },
     "metadata": {
      "needs_background": "light"
     },
     "output_type": "display_data"
    }
   ],
   "source": [
    "fg = sns.factorplot(x='City', y='Count', \n",
    "                        col='Status', data=Data, kind='bar')\n",
    "fg.set_xlabels('')"
   ]
  },
  {
   "cell_type": "markdown",
   "metadata": {},
   "source": [
    "And again by Status and City"
   ]
  },
  {
   "cell_type": "code",
   "execution_count": 25,
   "metadata": {
    "scrolled": true
   },
   "outputs": [
    {
     "data": {
      "text/plain": [
       "<seaborn.axisgrid.FacetGrid at 0x7fcc424eebd0>"
      ]
     },
     "execution_count": 25,
     "metadata": {},
     "output_type": "execute_result"
    },
    {
     "data": {
      "image/png": "[encoded data removed]",
      "text/plain": [
       "<Figure size 1800x360 with 5 Axes>"
      ]
     },
     "metadata": {
      "needs_background": "light"
     },
     "output_type": "display_data"
    }
   ],
   "source": [
    "fg = sns.factorplot(x='Status', y='Count', \n",
    "                        col='City', data=Data, kind='bar')\n",
    "fg.set_xlabels('')"
   ]
  },
  {
   "cell_type": "markdown",
   "metadata": {},
   "source": [
    "Finally by Airline and City"
   ]
  },
  {
   "cell_type": "code",
   "execution_count": 26,
   "metadata": {},
   "outputs": [
    {
     "data": {
      "text/plain": [
       "<seaborn.axisgrid.FacetGrid at 0x7fcc429e6590>"
      ]
     },
     "execution_count": 26,
     "metadata": {},
     "output_type": "execute_result"
    },
    {
     "data": {
      "image/png": "[encoded data removed]",
      "text/plain": [
       "<Figure size 720x360 with 2 Axes>"
      ]
     },
     "metadata": {
      "needs_background": "light"
     },
     "output_type": "display_data"
    }
   ],
   "source": [
    "fg = sns.factorplot(x='City', y='Count', \n",
    "                        col='Airline', data=Data, kind='bar')\n",
    "fg.set_xlabels('')"
   ]
  },
  {
   "cell_type": "markdown",
   "metadata": {},
   "source": [
    "# 1.3 \n",
    "Finally, given your “tidy” long format structure, consider what, if any, changes you would make to the visual presentation of the data if you were then asked to transform your “long” data back into a “wide” format: would you mimic the structure of the graphic shown above? If not, how might you transform your “long” data to “wide” format to make its “wide” presentation easier to understand and work with? Provide an example of your recommendation.\n"
   ]
  },
  {
   "cell_type": "markdown",
   "metadata": {},
   "source": [
    "Firstly I would not go back to a \"wide\" format, since there are multiple attributes for each datapoint, it makes sense to keep the data in a long format. However, I were tasked to do so, I would make some changes. \n",
    "-First, the row with no values would be gone. \n",
    "-In terms of heirarchial indexing, I would start with the airline, then I would include the city. As for the columns, I would select the \"One Time\" and \"Delayed\". The benefit of this is to show a count for each city and we can see how many are on time vs delayed for each airline."
   ]
  },
  {
   "cell_type": "code",
   "execution_count": 27,
   "metadata": {},
   "outputs": [],
   "source": [
    "#Cast the count column into an array\n",
    "x = np.array(Data['Count'])"
   ]
  },
  {
   "cell_type": "code",
   "execution_count": 28,
   "metadata": {},
   "outputs": [],
   "source": [
    "#Reshape appropriately so that we can add to example\n",
    "x1 = x.reshape((10,2))"
   ]
  },
  {
   "cell_type": "code",
   "execution_count": 29,
   "metadata": {},
   "outputs": [
    {
     "data": {
      "text/html": [
       "<div>\n",
       "<style scoped>\n",
       "    .dataframe tbody tr th:only-of-type {\n",
       "        vertical-align: middle;\n",
       "    }\n",
       "\n",
       "    .dataframe tbody tr th {\n",
       "        vertical-align: top;\n",
       "    }\n",
       "\n",
       "    .dataframe thead th {\n",
       "        text-align: right;\n",
       "    }\n",
       "</style>\n",
       "<table border=\"1\" class=\"dataframe\">\n",
       "  <thead>\n",
       "    <tr style=\"text-align: right;\">\n",
       "      <th></th>\n",
       "      <th></th>\n",
       "      <th>On Time</th>\n",
       "      <th>Delayed</th>\n",
       "    </tr>\n",
       "  </thead>\n",
       "  <tbody>\n",
       "    <tr>\n",
       "      <td rowspan=\"5\" valign=\"top\">Alaska</td>\n",
       "      <td>Los Angeles</td>\n",
       "      <td>497.0</td>\n",
       "      <td>62.0</td>\n",
       "    </tr>\n",
       "    <tr>\n",
       "      <td>Phoenix</td>\n",
       "      <td>694.0</td>\n",
       "      <td>117.0</td>\n",
       "    </tr>\n",
       "    <tr>\n",
       "      <td>San Diego</td>\n",
       "      <td>221.0</td>\n",
       "      <td>12.0</td>\n",
       "    </tr>\n",
       "    <tr>\n",
       "      <td>San Francisco</td>\n",
       "      <td>4840.0</td>\n",
       "      <td>415.0</td>\n",
       "    </tr>\n",
       "    <tr>\n",
       "      <td>Seattle</td>\n",
       "      <td>212.0</td>\n",
       "      <td>20.0</td>\n",
       "    </tr>\n",
       "    <tr>\n",
       "      <td rowspan=\"5\" valign=\"top\">AMWEST</td>\n",
       "      <td>Los Angeles</td>\n",
       "      <td>383.0</td>\n",
       "      <td>65.0</td>\n",
       "    </tr>\n",
       "    <tr>\n",
       "      <td>Phoenix</td>\n",
       "      <td>503.0</td>\n",
       "      <td>102.0</td>\n",
       "    </tr>\n",
       "    <tr>\n",
       "      <td>San Diego</td>\n",
       "      <td>320.0</td>\n",
       "      <td>129.0</td>\n",
       "    </tr>\n",
       "    <tr>\n",
       "      <td>San Francisco</td>\n",
       "      <td>1841.0</td>\n",
       "      <td>305.0</td>\n",
       "    </tr>\n",
       "    <tr>\n",
       "      <td>Seattle</td>\n",
       "      <td>201.0</td>\n",
       "      <td>61.0</td>\n",
       "    </tr>\n",
       "  </tbody>\n",
       "</table>\n",
       "</div>"
      ],
      "text/plain": [
       "                      On Time  Delayed\n",
       "Alaska Los Angeles      497.0     62.0\n",
       "       Phoenix          694.0    117.0\n",
       "       San Diego        221.0     12.0\n",
       "       San Francisco   4840.0    415.0\n",
       "       Seattle          212.0     20.0\n",
       "AMWEST Los Angeles      383.0     65.0\n",
       "       Phoenix          503.0    102.0\n",
       "       San Diego        320.0    129.0\n",
       "       San Francisco   1841.0    305.0\n",
       "       Seattle          201.0     61.0"
      ]
     },
     "execution_count": 29,
     "metadata": {},
     "output_type": "execute_result"
    }
   ],
   "source": [
    "Myframe = pd.DataFrame(x1,\n",
    "                     index=[['Alaska', 'Alaska','Alaska', 'Alaska', 'Alaska',\n",
    "                             'AMWEST','AMWEST','AMWEST','AMWEST','AMWEST'],\n",
    "                            ['Los Angeles', 'Phoenix', 'San Diego', 'San Francisco', 'Seattle',\n",
    "                             'Los Angeles', 'Phoenix', 'San Diego', 'San Francisco', 'Seattle']],\n",
    "                     columns=['On Time','Delayed'])\n",
    "Myframe"
   ]
  },
  {
   "cell_type": "markdown",
   "metadata": {},
   "source": [
    "# Part 2: Using Your GroupBy and Data Aggregation Skills"
   ]
  },
  {
   "cell_type": "code",
   "execution_count": 30,
   "metadata": {},
   "outputs": [],
   "source": [
    "#Loading DataFrame from Github Link\n",
    "df = pd.read_csv(\"https://raw.githubusercontent.com/atreish/AIM-5001/main/bridges.data.version1.csv\")"
   ]
  },
  {
   "cell_type": "code",
   "execution_count": 31,
   "metadata": {},
   "outputs": [
    {
     "data": {
      "text/html": [
       "<div>\n",
       "<style scoped>\n",
       "    .dataframe tbody tr th:only-of-type {\n",
       "        vertical-align: middle;\n",
       "    }\n",
       "\n",
       "    .dataframe tbody tr th {\n",
       "        vertical-align: top;\n",
       "    }\n",
       "\n",
       "    .dataframe thead th {\n",
       "        text-align: right;\n",
       "    }\n",
       "</style>\n",
       "<table border=\"1\" class=\"dataframe\">\n",
       "  <thead>\n",
       "    <tr style=\"text-align: right;\">\n",
       "      <th></th>\n",
       "      <th>IDENTIF</th>\n",
       "      <th>RIVER</th>\n",
       "      <th>LOCATION</th>\n",
       "      <th>ERECTED</th>\n",
       "      <th>PURPOSE</th>\n",
       "      <th>LENGTH</th>\n",
       "      <th>LANES</th>\n",
       "      <th>CLEAR-G</th>\n",
       "      <th>T-OR-D</th>\n",
       "      <th>MATERIAL</th>\n",
       "      <th>SPAN</th>\n",
       "      <th>REL-L</th>\n",
       "      <th>TYPE</th>\n",
       "    </tr>\n",
       "  </thead>\n",
       "  <tbody>\n",
       "    <tr>\n",
       "      <td>0</td>\n",
       "      <td>E2</td>\n",
       "      <td>A</td>\n",
       "      <td>25</td>\n",
       "      <td>1819</td>\n",
       "      <td>HIGHWAY</td>\n",
       "      <td>1037</td>\n",
       "      <td>2</td>\n",
       "      <td>N</td>\n",
       "      <td>THROUGH</td>\n",
       "      <td>WOOD</td>\n",
       "      <td>SHORT</td>\n",
       "      <td>S</td>\n",
       "      <td>WOOD</td>\n",
       "    </tr>\n",
       "    <tr>\n",
       "      <td>1</td>\n",
       "      <td>E3</td>\n",
       "      <td>A</td>\n",
       "      <td>39</td>\n",
       "      <td>1829</td>\n",
       "      <td>AQUEDUCT</td>\n",
       "      <td>?</td>\n",
       "      <td>1</td>\n",
       "      <td>N</td>\n",
       "      <td>THROUGH</td>\n",
       "      <td>WOOD</td>\n",
       "      <td>?</td>\n",
       "      <td>S</td>\n",
       "      <td>WOOD</td>\n",
       "    </tr>\n",
       "    <tr>\n",
       "      <td>2</td>\n",
       "      <td>E5</td>\n",
       "      <td>A</td>\n",
       "      <td>29</td>\n",
       "      <td>1837</td>\n",
       "      <td>HIGHWAY</td>\n",
       "      <td>1000</td>\n",
       "      <td>2</td>\n",
       "      <td>N</td>\n",
       "      <td>THROUGH</td>\n",
       "      <td>WOOD</td>\n",
       "      <td>SHORT</td>\n",
       "      <td>S</td>\n",
       "      <td>WOOD</td>\n",
       "    </tr>\n",
       "    <tr>\n",
       "      <td>3</td>\n",
       "      <td>E6</td>\n",
       "      <td>M</td>\n",
       "      <td>23</td>\n",
       "      <td>1838</td>\n",
       "      <td>HIGHWAY</td>\n",
       "      <td>?</td>\n",
       "      <td>2</td>\n",
       "      <td>N</td>\n",
       "      <td>THROUGH</td>\n",
       "      <td>WOOD</td>\n",
       "      <td>?</td>\n",
       "      <td>S</td>\n",
       "      <td>WOOD</td>\n",
       "    </tr>\n",
       "    <tr>\n",
       "      <td>4</td>\n",
       "      <td>E7</td>\n",
       "      <td>A</td>\n",
       "      <td>27</td>\n",
       "      <td>1840</td>\n",
       "      <td>HIGHWAY</td>\n",
       "      <td>990</td>\n",
       "      <td>2</td>\n",
       "      <td>N</td>\n",
       "      <td>THROUGH</td>\n",
       "      <td>WOOD</td>\n",
       "      <td>MEDIUM</td>\n",
       "      <td>S</td>\n",
       "      <td>WOOD</td>\n",
       "    </tr>\n",
       "    <tr>\n",
       "      <td>...</td>\n",
       "      <td>...</td>\n",
       "      <td>...</td>\n",
       "      <td>...</td>\n",
       "      <td>...</td>\n",
       "      <td>...</td>\n",
       "      <td>...</td>\n",
       "      <td>...</td>\n",
       "      <td>...</td>\n",
       "      <td>...</td>\n",
       "      <td>...</td>\n",
       "      <td>...</td>\n",
       "      <td>...</td>\n",
       "      <td>...</td>\n",
       "    </tr>\n",
       "    <tr>\n",
       "      <td>102</td>\n",
       "      <td>E84</td>\n",
       "      <td>A</td>\n",
       "      <td>24</td>\n",
       "      <td>1969</td>\n",
       "      <td>HIGHWAY</td>\n",
       "      <td>870</td>\n",
       "      <td>6</td>\n",
       "      <td>G</td>\n",
       "      <td>THROUGH</td>\n",
       "      <td>STEEL</td>\n",
       "      <td>MEDIUM</td>\n",
       "      <td>F</td>\n",
       "      <td>ARCH</td>\n",
       "    </tr>\n",
       "    <tr>\n",
       "      <td>103</td>\n",
       "      <td>E91</td>\n",
       "      <td>O</td>\n",
       "      <td>44</td>\n",
       "      <td>1975</td>\n",
       "      <td>HIGHWAY</td>\n",
       "      <td>3756</td>\n",
       "      <td>6</td>\n",
       "      <td>G</td>\n",
       "      <td>THROUGH</td>\n",
       "      <td>STEEL</td>\n",
       "      <td>LONG</td>\n",
       "      <td>F</td>\n",
       "      <td>ARCH</td>\n",
       "    </tr>\n",
       "    <tr>\n",
       "      <td>104</td>\n",
       "      <td>E90</td>\n",
       "      <td>M</td>\n",
       "      <td>7</td>\n",
       "      <td>1978</td>\n",
       "      <td>HIGHWAY</td>\n",
       "      <td>950</td>\n",
       "      <td>6</td>\n",
       "      <td>G</td>\n",
       "      <td>THROUGH</td>\n",
       "      <td>STEEL</td>\n",
       "      <td>LONG</td>\n",
       "      <td>F</td>\n",
       "      <td>ARCH</td>\n",
       "    </tr>\n",
       "    <tr>\n",
       "      <td>105</td>\n",
       "      <td>E100</td>\n",
       "      <td>O</td>\n",
       "      <td>43</td>\n",
       "      <td>1982</td>\n",
       "      <td>HIGHWAY</td>\n",
       "      <td>?</td>\n",
       "      <td>?</td>\n",
       "      <td>G</td>\n",
       "      <td>?</td>\n",
       "      <td>?</td>\n",
       "      <td>?</td>\n",
       "      <td>F</td>\n",
       "      <td>?</td>\n",
       "    </tr>\n",
       "    <tr>\n",
       "      <td>106</td>\n",
       "      <td>E109</td>\n",
       "      <td>A</td>\n",
       "      <td>28</td>\n",
       "      <td>1986</td>\n",
       "      <td>HIGHWAY</td>\n",
       "      <td>?</td>\n",
       "      <td>?</td>\n",
       "      <td>G</td>\n",
       "      <td>?</td>\n",
       "      <td>?</td>\n",
       "      <td>?</td>\n",
       "      <td>F</td>\n",
       "      <td>?</td>\n",
       "    </tr>\n",
       "  </tbody>\n",
       "</table>\n",
       "<p>107 rows × 13 columns</p>\n",
       "</div>"
      ],
      "text/plain": [
       "    IDENTIF RIVER LOCATION  ERECTED   PURPOSE LENGTH LANES CLEAR-G   T-OR-D  \\\n",
       "0        E2     A       25     1819   HIGHWAY   1037     2       N  THROUGH   \n",
       "1        E3     A       39     1829  AQUEDUCT      ?     1       N  THROUGH   \n",
       "2        E5     A       29     1837   HIGHWAY   1000     2       N  THROUGH   \n",
       "3        E6     M       23     1838   HIGHWAY      ?     2       N  THROUGH   \n",
       "4        E7     A       27     1840   HIGHWAY    990     2       N  THROUGH   \n",
       "..      ...   ...      ...      ...       ...    ...   ...     ...      ...   \n",
       "102     E84     A       24     1969   HIGHWAY    870     6       G  THROUGH   \n",
       "103     E91     O       44     1975   HIGHWAY   3756     6       G  THROUGH   \n",
       "104     E90     M        7     1978   HIGHWAY    950     6       G  THROUGH   \n",
       "105    E100     O       43     1982   HIGHWAY      ?     ?       G        ?   \n",
       "106    E109     A       28     1986   HIGHWAY      ?     ?       G        ?   \n",
       "\n",
       "    MATERIAL    SPAN REL-L  TYPE  \n",
       "0       WOOD   SHORT     S  WOOD  \n",
       "1       WOOD       ?     S  WOOD  \n",
       "2       WOOD   SHORT     S  WOOD  \n",
       "3       WOOD       ?     S  WOOD  \n",
       "4       WOOD  MEDIUM     S  WOOD  \n",
       "..       ...     ...   ...   ...  \n",
       "102    STEEL  MEDIUM     F  ARCH  \n",
       "103    STEEL    LONG     F  ARCH  \n",
       "104    STEEL    LONG     F  ARCH  \n",
       "105        ?       ?     F     ?  \n",
       "106        ?       ?     F     ?  \n",
       "\n",
       "[107 rows x 13 columns]"
      ]
     },
     "execution_count": 31,
     "metadata": {},
     "output_type": "execute_result"
    }
   ],
   "source": [
    "#Name the columns according to the Website description\n",
    "df.columns = ['IDENTIF', 'RIVER', 'LOCATION', 'ERECTED', 'PURPOSE', \n",
    "              'LENGTH', 'LANES', 'CLEAR-G', 'T-OR-D', 'MATERIAL', 'SPAN', 'REL-L', 'TYPE']\n",
    "df"
   ]
  },
  {
   "cell_type": "markdown",
   "metadata": {},
   "source": [
    "Notice we have missing values for Material, and since we will use this Column, we have to either remove them or fill them in, the best way I think would be to fill them in by first doing a bit of investigating on what material they most likely would be. So let's graph the development of each material in time."
   ]
  },
  {
   "cell_type": "code",
   "execution_count": 32,
   "metadata": {},
   "outputs": [],
   "source": [
    "df['#Wood'] = (df['MATERIAL'].apply(lambda x: 1 if (x == \"WOOD\") else 0)).cumsum()\n",
    "df['#Iron'] = (df['MATERIAL'].apply(lambda x: 1 if (x == \"IRON\") else 0)).cumsum()\n",
    "df['#Steel'] = (df['MATERIAL'].apply(lambda x: 1 if (x == \"STEEL\") else 0)).cumsum()"
   ]
  },
  {
   "cell_type": "code",
   "execution_count": 33,
   "metadata": {},
   "outputs": [
    {
     "name": "stdout",
     "output_type": "stream",
     "text": [
      "Final Building constructions based on material\n",
      "15 wood 11 iron 79 steel\n"
     ]
    },
    {
     "data": {
      "image/png": "[encoded data removed]",
      "text/plain": [
       "<Figure size 1080x360 with 1 Axes>"
      ]
     },
     "metadata": {
      "needs_background": "light"
     },
     "output_type": "display_data"
    }
   ],
   "source": [
    "#This will print the cumsum of each material over time. For my own curiouity mostly\n",
    "ref = df.iloc[-1]\n",
    "print('Final Building constructions based on material\\n{} wood {} iron {} steel'.format(ref['#Wood'], \n",
    "                                                                                       ref['#Iron'], \n",
    "                                                                                       ref['#Steel']))\n",
    "df.set_index('ERECTED')[['#Wood', '#Iron', '#Steel']].plot(figsize=(15,5), title='Bridge Developments by Material')\n",
    "plt.ylabel('Number of constructions')\n",
    "plt.xlabel('Timeline')\n",
    "plt.show()"
   ]
  },
  {
   "cell_type": "markdown",
   "metadata": {},
   "source": [
    "Clearly, the last two values Steel in row 105 and 106, we can fill that in."
   ]
  },
  {
   "cell_type": "code",
   "execution_count": 34,
   "metadata": {},
   "outputs": [
    {
     "name": "stderr",
     "output_type": "stream",
     "text": [
      "/Users/atreish/opt/anaconda3/lib/python3.7/site-packages/pandas/core/indexing.py:205: SettingWithCopyWarning: \n",
      "A value is trying to be set on a copy of a slice from a DataFrame\n",
      "\n",
      "See the caveats in the documentation: http://pandas.pydata.org/pandas-docs/stable/user_guide/indexing.html#returning-a-view-versus-a-copy\n",
      "  self._setitem_with_indexer(indexer, value)\n"
     ]
    }
   ],
   "source": [
    "df['MATERIAL'].iloc[105]='STEEL'\n",
    "df['MATERIAL'].iloc[106]='STEEL'"
   ]
  },
  {
   "cell_type": "markdown",
   "metadata": {},
   "source": [
    "# 2.1 \n",
    "You’ve been asked to generate a quick report that tells us how many bridges of each ‘Purpose’/’Material’ grouping within the data set have been constructed over each of the rivers listed in the data set. For each river, your output should include the Purpose, Material, and count (aka ‘How Many?’), similar to the output shown in the graphic below for River 'A', and your report should include similar content for each of the rivers contained within the data set."
   ]
  },
  {
   "cell_type": "code",
   "execution_count": 35,
   "metadata": {},
   "outputs": [
    {
     "data": {
      "text/html": [
       "<div>\n",
       "<style scoped>\n",
       "    .dataframe tbody tr th:only-of-type {\n",
       "        vertical-align: middle;\n",
       "    }\n",
       "\n",
       "    .dataframe tbody tr th {\n",
       "        vertical-align: top;\n",
       "    }\n",
       "\n",
       "    .dataframe thead th {\n",
       "        text-align: right;\n",
       "    }\n",
       "</style>\n",
       "<table border=\"1\" class=\"dataframe\">\n",
       "  <thead>\n",
       "    <tr style=\"text-align: right;\">\n",
       "      <th></th>\n",
       "      <th></th>\n",
       "      <th></th>\n",
       "      <th>How Many?</th>\n",
       "    </tr>\n",
       "    <tr>\n",
       "      <th>RIVER</th>\n",
       "      <th>PURPOSE</th>\n",
       "      <th>MATERIAL</th>\n",
       "      <th></th>\n",
       "    </tr>\n",
       "  </thead>\n",
       "  <tbody>\n",
       "    <tr>\n",
       "      <td rowspan=\"9\" valign=\"top\">A</td>\n",
       "      <td rowspan=\"2\" valign=\"top\">AQUEDUCT</td>\n",
       "      <td>IRON</td>\n",
       "      <td>1</td>\n",
       "    </tr>\n",
       "    <tr>\n",
       "      <td>WOOD</td>\n",
       "      <td>3</td>\n",
       "    </tr>\n",
       "    <tr>\n",
       "      <td rowspan=\"3\" valign=\"top\">HIGHWAY</td>\n",
       "      <td>IRON</td>\n",
       "      <td>2</td>\n",
       "    </tr>\n",
       "    <tr>\n",
       "      <td>STEEL</td>\n",
       "      <td>22</td>\n",
       "    </tr>\n",
       "    <tr>\n",
       "      <td>WOOD</td>\n",
       "      <td>8</td>\n",
       "    </tr>\n",
       "    <tr>\n",
       "      <td rowspan=\"3\" valign=\"top\">RR</td>\n",
       "      <td>IRON</td>\n",
       "      <td>1</td>\n",
       "    </tr>\n",
       "    <tr>\n",
       "      <td>STEEL</td>\n",
       "      <td>9</td>\n",
       "    </tr>\n",
       "    <tr>\n",
       "      <td>WOOD</td>\n",
       "      <td>2</td>\n",
       "    </tr>\n",
       "    <tr>\n",
       "      <td>WALK</td>\n",
       "      <td>STEEL</td>\n",
       "      <td>1</td>\n",
       "    </tr>\n",
       "    <tr>\n",
       "      <td rowspan=\"5\" valign=\"top\">M</td>\n",
       "      <td rowspan=\"3\" valign=\"top\">HIGHWAY</td>\n",
       "      <td>IRON</td>\n",
       "      <td>4</td>\n",
       "    </tr>\n",
       "    <tr>\n",
       "      <td>STEEL</td>\n",
       "      <td>19</td>\n",
       "    </tr>\n",
       "    <tr>\n",
       "      <td>WOOD</td>\n",
       "      <td>2</td>\n",
       "    </tr>\n",
       "    <tr>\n",
       "      <td rowspan=\"2\" valign=\"top\">RR</td>\n",
       "      <td>IRON</td>\n",
       "      <td>2</td>\n",
       "    </tr>\n",
       "    <tr>\n",
       "      <td>STEEL</td>\n",
       "      <td>13</td>\n",
       "    </tr>\n",
       "    <tr>\n",
       "      <td rowspan=\"3\" valign=\"top\">O</td>\n",
       "      <td rowspan=\"2\" valign=\"top\">HIGHWAY</td>\n",
       "      <td>IRON</td>\n",
       "      <td>1</td>\n",
       "    </tr>\n",
       "    <tr>\n",
       "      <td>STEEL</td>\n",
       "      <td>10</td>\n",
       "    </tr>\n",
       "    <tr>\n",
       "      <td>RR</td>\n",
       "      <td>STEEL</td>\n",
       "      <td>4</td>\n",
       "    </tr>\n",
       "    <tr>\n",
       "      <td rowspan=\"2\" valign=\"top\">Y</td>\n",
       "      <td>HIGHWAY</td>\n",
       "      <td>STEEL</td>\n",
       "      <td>2</td>\n",
       "    </tr>\n",
       "    <tr>\n",
       "      <td>RR</td>\n",
       "      <td>STEEL</td>\n",
       "      <td>1</td>\n",
       "    </tr>\n",
       "  </tbody>\n",
       "</table>\n",
       "</div>"
      ],
      "text/plain": [
       "                         How Many?\n",
       "RIVER PURPOSE  MATERIAL           \n",
       "A     AQUEDUCT IRON              1\n",
       "               WOOD              3\n",
       "      HIGHWAY  IRON              2\n",
       "               STEEL            22\n",
       "               WOOD              8\n",
       "      RR       IRON              1\n",
       "               STEEL             9\n",
       "               WOOD              2\n",
       "      WALK     STEEL             1\n",
       "M     HIGHWAY  IRON              4\n",
       "               STEEL            19\n",
       "               WOOD              2\n",
       "      RR       IRON              2\n",
       "               STEEL            13\n",
       "O     HIGHWAY  IRON              1\n",
       "               STEEL            10\n",
       "      RR       STEEL             4\n",
       "Y     HIGHWAY  STEEL             2\n",
       "      RR       STEEL             1"
      ]
     },
     "execution_count": 35,
     "metadata": {},
     "output_type": "execute_result"
    }
   ],
   "source": [
    "\"\"\"Here we apply a groupby to the relevant order, then apply the size() function to get the count, \n",
    "finally cast to another column using to_frame() function titled -How Many?- and we are done\"\"\"\n",
    "\n",
    "df.groupby(['RIVER','PURPOSE','MATERIAL']).size().to_frame(name = 'How Many?')"
   ]
  },
  {
   "cell_type": "markdown",
   "metadata": {},
   "source": [
    "Here we have the report showing the count for each Material of bridges across each river divided by purpose as requested"
   ]
  },
  {
   "cell_type": "markdown",
   "metadata": {},
   "source": [
    "# 2.2 \n",
    "You’ve been asked to generate a second report that shows the average length for each ‘Purpose’/’Material’ bridge grouping within the data set. As you should recall from our previous work with the Pittsburgh Bridges data set, the ‘Length’ attribute is not provided to us in a numeric format and also contains many missing values. As such, you should clean up the contents of that column and convert it to numeric format before attempting to generate your report. The output of your report should appear as shown in the graphic below.\n",
    "\n",
    "You are allowed to use no more than four (4) lines of Python/Pandas code AFTER you’ve finished cleaning up the ‘Length’ column (which should take no more than 2-3 lines of code) and you MUST use Pandas’ groupby and/or aggregation functionality to accomplish the task. Be sure to include a brief narrative explaining how your proposed code would accomplish the task."
   ]
  },
  {
   "cell_type": "code",
   "execution_count": 36,
   "metadata": {},
   "outputs": [
    {
     "data": {
      "text/plain": [
       "array(['1037', '?', '1000', '?', '990', '1000', '1500', '?', '1000', '?',\n",
       "       '1200', '?', '?', '1030', '1000', '1200', '1000', '1000', '?',\n",
       "       '1245', '1200', '?', '?', '?', '1150', '?', '1080', '1000', '?',\n",
       "       '1161', '4558', '1120', '?', '1000', '?', '1350', '?', '1092', '?',\n",
       "       '?', '2367', '?', '1040', '4000', '2264', '2000', '1200', '2000',\n",
       "       '?', '1850', '1300', '3000', '1417', '1154', '1200', '965', '1504',\n",
       "       '1240', '?', '1730', '1620', '1652', '?', '2210', '2822', '1000',\n",
       "       '2300', '2122', '?', '885', '2365', '860', '884', '1770', '1508',\n",
       "       '2663', '1330', '2678', '2220', '860', '2250', '1365', '1450',\n",
       "       '1500', '1690', '1800', '1060', '840', '1710', '2160', '?', '?',\n",
       "       '1320', '900', '2423', '1031', '2300', '804', '1700', '1000',\n",
       "       '980', '2213', '870', '3756', '950', '?', '?'], dtype=object)"
      ]
     },
     "execution_count": 36,
     "metadata": {},
     "output_type": "execute_result"
    }
   ],
   "source": [
    "#First Call the lenght column so we view the details, notice it is NOT numeric dtype=object\n",
    "length_col = np.array(df['LENGTH'])\n",
    "length_col"
   ]
  },
  {
   "cell_type": "markdown",
   "metadata": {},
   "source": [
    "Here we will perform the request in 3 lines of code"
   ]
  },
  {
   "cell_type": "code",
   "execution_count": 37,
   "metadata": {},
   "outputs": [
    {
     "data": {
      "text/html": [
       "<div>\n",
       "<style scoped>\n",
       "    .dataframe tbody tr th:only-of-type {\n",
       "        vertical-align: middle;\n",
       "    }\n",
       "\n",
       "    .dataframe tbody tr th {\n",
       "        vertical-align: top;\n",
       "    }\n",
       "\n",
       "    .dataframe thead th {\n",
       "        text-align: right;\n",
       "    }\n",
       "</style>\n",
       "<table border=\"1\" class=\"dataframe\">\n",
       "  <thead>\n",
       "    <tr style=\"text-align: right;\">\n",
       "      <th></th>\n",
       "      <th></th>\n",
       "      <th>Average Length</th>\n",
       "    </tr>\n",
       "    <tr>\n",
       "      <th>PURPOSE</th>\n",
       "      <th>MATERIAL</th>\n",
       "      <th></th>\n",
       "    </tr>\n",
       "  </thead>\n",
       "  <tbody>\n",
       "    <tr>\n",
       "      <td rowspan=\"2\" valign=\"top\">AQUEDUCT</td>\n",
       "      <td>IRON</td>\n",
       "      <td>1000.000000</td>\n",
       "    </tr>\n",
       "    <tr>\n",
       "      <td>WOOD</td>\n",
       "      <td>1092.000000</td>\n",
       "    </tr>\n",
       "    <tr>\n",
       "      <td rowspan=\"3\" valign=\"top\">HIGHWAY</td>\n",
       "      <td>IRON</td>\n",
       "      <td>1216.666667</td>\n",
       "    </tr>\n",
       "    <tr>\n",
       "      <td>STEEL</td>\n",
       "      <td>1557.804348</td>\n",
       "    </tr>\n",
       "    <tr>\n",
       "      <td>WOOD</td>\n",
       "      <td>1053.375000</td>\n",
       "    </tr>\n",
       "    <tr>\n",
       "      <td rowspan=\"3\" valign=\"top\">RR</td>\n",
       "      <td>IRON</td>\n",
       "      <td>1100.000000</td>\n",
       "    </tr>\n",
       "    <tr>\n",
       "      <td>STEEL</td>\n",
       "      <td>1946.850000</td>\n",
       "    </tr>\n",
       "    <tr>\n",
       "      <td>WOOD</td>\n",
       "      <td>NaN</td>\n",
       "    </tr>\n",
       "    <tr>\n",
       "      <td>WALK</td>\n",
       "      <td>STEEL</td>\n",
       "      <td>NaN</td>\n",
       "    </tr>\n",
       "  </tbody>\n",
       "</table>\n",
       "</div>"
      ],
      "text/plain": [
       "                   Average Length\n",
       "PURPOSE  MATERIAL                \n",
       "AQUEDUCT IRON         1000.000000\n",
       "         WOOD         1092.000000\n",
       "HIGHWAY  IRON         1216.666667\n",
       "         STEEL        1557.804348\n",
       "         WOOD         1053.375000\n",
       "RR       IRON         1100.000000\n",
       "         STEEL        1946.850000\n",
       "         WOOD                 NaN\n",
       "WALK     STEEL                NaN"
      ]
     },
     "execution_count": 37,
     "metadata": {},
     "output_type": "execute_result"
    }
   ],
   "source": [
    "#Next we will cast the entire column as a numeric data type and replace all '?' strings with a NAN\n",
    "df.LENGTH = pd.to_numeric(df['LENGTH'].replace('?', np.nan))\n",
    "\n",
    "#Finally we call groupby function to apply mean() and cast it to a column names Avgerage Length using to_frame()\n",
    "df_avg_length_col = df.groupby(['PURPOSE','MATERIAL']).LENGTH.agg('mean').to_frame(name='Average Length')\n",
    "df_avg_length_col"
   ]
  },
  {
   "cell_type": "markdown",
   "metadata": {},
   "source": [
    "# 2.3\n",
    "Finally, you’ve been asked to generate one last report that shows the average length, count,\n",
    "minimum length, and maximum length of bridges built during 4 equal length time periods (1818 – 1860; 1860-\n",
    "1902; 1902-1944; 1944-1986). The output of your report should appear as shown in the graphic below.\n",
    "\n",
    "You are allowed to use no more than seven (7) lines of Python/Pandas code and you must use Pandas’ groupby and/or aggregation functionality to accomplish the task. Be sure to include a brief narrative explaining how your proposed code would accomplish the task."
   ]
  },
  {
   "cell_type": "markdown",
   "metadata": {},
   "source": [
    "The next cell will generate the report in 5 lines of code"
   ]
  },
  {
   "cell_type": "code",
   "execution_count": 38,
   "metadata": {},
   "outputs": [
    {
     "data": {
      "text/html": [
       "<div>\n",
       "<style scoped>\n",
       "    .dataframe tbody tr th:only-of-type {\n",
       "        vertical-align: middle;\n",
       "    }\n",
       "\n",
       "    .dataframe tbody tr th {\n",
       "        vertical-align: top;\n",
       "    }\n",
       "\n",
       "    .dataframe thead th {\n",
       "        text-align: right;\n",
       "    }\n",
       "</style>\n",
       "<table border=\"1\" class=\"dataframe\">\n",
       "  <thead>\n",
       "    <tr style=\"text-align: right;\">\n",
       "      <th></th>\n",
       "      <th>Average Length</th>\n",
       "      <th>Count</th>\n",
       "      <th>Max Length</th>\n",
       "      <th>Min Length</th>\n",
       "    </tr>\n",
       "    <tr>\n",
       "      <th>ERECTED</th>\n",
       "      <th></th>\n",
       "      <th></th>\n",
       "      <th></th>\n",
       "      <th></th>\n",
       "    </tr>\n",
       "  </thead>\n",
       "  <tbody>\n",
       "    <tr>\n",
       "      <td>(1818.833, 1860.75]</td>\n",
       "      <td>1094.625000</td>\n",
       "      <td>8.0</td>\n",
       "      <td>1500.0</td>\n",
       "      <td>990.0</td>\n",
       "    </tr>\n",
       "    <tr>\n",
       "      <td>(1860.75, 1902.5]</td>\n",
       "      <td>1603.347826</td>\n",
       "      <td>23.0</td>\n",
       "      <td>4558.0</td>\n",
       "      <td>1000.0</td>\n",
       "    </tr>\n",
       "    <tr>\n",
       "      <td>(1902.5, 1944.25]</td>\n",
       "      <td>1676.181818</td>\n",
       "      <td>33.0</td>\n",
       "      <td>3000.0</td>\n",
       "      <td>860.0</td>\n",
       "    </tr>\n",
       "    <tr>\n",
       "      <td>(1944.25, 1986.0]</td>\n",
       "      <td>1530.411765</td>\n",
       "      <td>17.0</td>\n",
       "      <td>3756.0</td>\n",
       "      <td>804.0</td>\n",
       "    </tr>\n",
       "  </tbody>\n",
       "</table>\n",
       "</div>"
      ],
      "text/plain": [
       "                     Average Length  Count  Max Length  Min Length\n",
       "ERECTED                                                           \n",
       "(1818.833, 1860.75]     1094.625000    8.0      1500.0       990.0\n",
       "(1860.75, 1902.5]       1603.347826   23.0      4558.0      1000.0\n",
       "(1902.5, 1944.25]       1676.181818   33.0      3000.0       860.0\n",
       "(1944.25, 1986.0]       1530.411765   17.0      3756.0       804.0"
      ]
     },
     "execution_count": 38,
     "metadata": {},
     "output_type": "execute_result"
    }
   ],
   "source": [
    "#Cut the intervals of the timeline in our data frame's ERECTED column into 4 parts\n",
    "intervals = pd.cut(df.ERECTED, 4)\n",
    "\n",
    "#define columns for each group which ccontains the desired stats: Average, COunt, Maximum and Minimum\n",
    "#note that this returns a dict\n",
    "def mean_count_max_min(group):\n",
    "    return {'Average Length':group.mean(),'Count':group.count(),\n",
    "            'Max Length':group.max(),'Min Length':group.min()}\n",
    "\n",
    "#create a groupby based on length (which we have made into numeric format) and use the 4 intervals\n",
    "df_length_in_intervals = df.LENGTH.groupby(intervals)\n",
    "\n",
    "#apply the above function to get statistics of our groupby frame, but since it has dicts we apply unstack()\n",
    "df_length_in_intervals.apply(mean_count_max_min).unstack()"
   ]
  }
 ],
 "metadata": {
  "kernelspec": {
   "display_name": "Python 3",
   "language": "python",
   "name": "python3"
  },
  "language_info": {
   "codemirror_mode": {
    "name": "ipython",
    "version": 3
   },
   "file_extension": ".py",
   "mimetype": "text/x-python",
   "name": "python",
   "nbconvert_exporter": "python",
   "pygments_lexer": "ipython3",
   "version": "3.7.4"
  }
 },
 "nbformat": 4,
 "nbformat_minor": 4
}
