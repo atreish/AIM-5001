{
 "cells": [
  {
   "cell_type": "markdown",
   "metadata": {},
   "source": [
    "## AIM 5001 Project 1 (M5) (100 Points)\n",
    "**Text Processing** <br>\n",
    "<br>\n",
    "**Students: Aishwarya Singh, Atreish Ramlakhan, Nosson Weissman**\n",
    "\n",
    "### Part 1: Regular Expressions (30 Points)\n",
    "Text data is often in need of “cleaning” and preparation before it can be effectively used for analysis purposes. Consider\n",
    "the following poorly formatted text string containing names and phone numbers of some residents of the town of\n",
    "Springfield:\n",
    "\"555-1239Dr. Anthony Fauci(636) 555-0113Hollingdorp, Donnatella555-6542Fitzgerald, F. Sco\n",
    "tt555 8904Rev. Martin Luther King636-555-3226Snodgrass, Theodore5553642Carlamina Scarfoni\n",
    "\"\n",
    "Use your Python regular expression (“regex”) skills to complete the following tasks:"
   ]
  },
  {
   "cell_type": "code",
   "execution_count": 1,
   "metadata": {
    "id": "dEwFMoytsKxX"
   },
   "outputs": [],
   "source": [
    "import re\n",
    "import pandas as pd"
   ]
  },
  {
   "cell_type": "markdown",
   "metadata": {
    "id": "ZUTmu2i9qBTu"
   },
   "source": [
    "### Part 1:"
   ]
  },
  {
   "cell_type": "code",
   "execution_count": 2,
   "metadata": {
    "id": "VEw2sI1dyf3g"
   },
   "outputs": [],
   "source": [
    "inputstring = \"555-1239Dr. Anthony Fauci(636) 555-0113Hollingdorp, Donnatella555-6542Fitzgerald, F. Scott555 8904Rev. Martin Luther King636-555-3226Snodgrass, Theodore5553642Carlamina Scarfoni\""
   ]
  },
  {
   "cell_type": "markdown",
   "metadata": {},
   "source": [
    "\n",
    "**1. (6 Points) Extract the names of each individual from the unformatted text string shown above and store them in a\n",
    "vector of some sort. When complete, your vector should contain the following entries:**\n",
    "\"Dr. Anthony Fauci\" \"Hollingdorp, Donnatella\" \"Fitzgerald, F. Scott\"\n",
    "\"Rev. Martin Luther King\" \"Snodgrass, Theodore\" \"Carlamina Scarfoni\""
   ]
  },
  {
   "cell_type": "code",
   "execution_count": 3,
   "metadata": {
    "colab": {
     "base_uri": "https://localhost:8080/"
    },
    "id": "4psXFSijLY74",
    "outputId": "698bc3b0-e377-4e35-8f5e-4b600a71915d"
   },
   "outputs": [
    {
     "name": "stdout",
     "output_type": "stream",
     "text": [
      "['Dr. Anthony Fauci', 'Hollingdorp, Donnatella', 'Fitzgerald, F. Scott', 'Rev. Martin Luther King', 'Snodgrass, Theodore', 'Carlamina Scarfoni']\n"
     ]
    }
   ],
   "source": [
    "# Represent a full name, broadly.\n",
    "# String of 1 or more lowercase or uppercase alphabet characters OR period (.) OR comma (,) OR blankspace.\n",
    "pattern1 = re.compile('[a-zA-z\\.,\\s]+')\n",
    "\n",
    "# Single blankspace characters bracketed on either side by non-alphabet characters - remove these.\n",
    "rmspace = re.compile('[^a-zA-Z][\\s][^a-zA-Z]')\n",
    "namelist = rmspace.sub('', inputstring)\n",
    "\n",
    "namelist = pattern1.findall(namelist)\n",
    "\n",
    "print(namelist)"
   ]
  },
  {
   "cell_type": "markdown",
   "metadata": {},
   "source": [
    "\n",
    "**2. Using your new vector containing only the names of the six individuals, complete the following tasks:**"
   ]
  },
  {
   "cell_type": "markdown",
   "metadata": {},
   "source": [
    "**a. (4 Points)** Use your regex skills to rearrange the vector so that all elements conform to the standard\n",
    "“firstname lastname”, preserving any titles (e.g., “Rev.”, “Dr.”, etc) or middle/second names."
   ]
  },
  {
   "cell_type": "code",
   "execution_count": 4,
   "metadata": {},
   "outputs": [
    {
     "name": "stdout",
     "output_type": "stream",
     "text": [
      "['Dr. Anthony Fauci', 'Donnatella Hollingdorp', 'F. Scott Fitzgerald', 'Rev. Martin Luther King', 'Theodore Snodgrass', 'Carlamina Scarfoni']\n"
     ]
    }
   ],
   "source": [
    "comma = re.compile('[,]')\n",
    "\n",
    "# Represent a single section of a name.\n",
    "# String of 1 or more alphabet characters, periods and blankspaces preceded by a capital alphabet character.\n",
    "pattern2 = re.compile('[A-Z][a-zA-Z\\.\\s]+')\n",
    "\n",
    "# Rearrange only the names that have been separated by a comma.\n",
    "for n in range(len(namelist)):\n",
    "    match = comma.search(namelist[n])\n",
    "    if match:\n",
    "        task2 = pattern2.findall(namelist[n])\n",
    "        namelist[n] = task2[1] + ' ' + task2[0]\n",
    "print(namelist)"
   ]
  },
  {
   "cell_type": "markdown",
   "metadata": {},
   "source": [
    "\n",
    "**b. (6 Points) Extract the names of each individual from the unformatted text string shown above and store them in a\n",
    "vector of some sort. When complete, your vector should contain the following entries:**\n",
    "\"Dr. Anthony Fauci\" \"Hollingdorp, Donnatella\" \"Fitzgerald, F. Scott\"\n",
    "\"Rev. Martin Luther King\" \"Snodgrass, Theodore\" \"Carlamina Scarfoni\""
   ]
  },
  {
   "cell_type": "code",
   "execution_count": 5,
   "metadata": {
    "colab": {
     "base_uri": "https://localhost:8080/"
    },
    "id": "AwvOwSem5tDV",
    "outputId": "a282a12f-ba47-4a7a-b28e-56bac6a7a5c6"
   },
   "outputs": [
    {
     "data": {
      "text/plain": [
       "0          Dr. Anthony Fauci\n",
       "1     Donnatella Hollingdorp\n",
       "2        F. Scott Fitzgerald\n",
       "3    Rev. Martin Luther King\n",
       "4         Theodore Snodgrass\n",
       "5         Carlamina Scarfoni\n",
       "dtype: object"
      ]
     },
     "execution_count": 5,
     "metadata": {},
     "output_type": "execute_result"
    }
   ],
   "source": [
    "# Rewrite the name list in a pandas vector.\n",
    "pnamelist = pd.Series(namelist)\n",
    "pnamelist"
   ]
  },
  {
   "cell_type": "code",
   "execution_count": 6,
   "metadata": {
    "colab": {
     "base_uri": "https://localhost:8080/"
    },
    "id": "AbLym4g-ETOY",
    "outputId": "189edffe-5912-44ff-97c4-607c32480087"
   },
   "outputs": [
    {
     "data": {
      "text/plain": [
       "0     True\n",
       "1    False\n",
       "2    False\n",
       "3     True\n",
       "4    False\n",
       "5    False\n",
       "dtype: bool"
      ]
     },
     "execution_count": 6,
     "metadata": {},
     "output_type": "execute_result"
    }
   ],
   "source": [
    "# Represent a title.\n",
    "# Uppercase alphabet followed by at least 1 lowercase alphabet followed by period.\n",
    "title = r'[A-Z][a-z]+[\\.]' #***what does r mean\n",
    "\n",
    "pnamelist.str.contains(title) #what is this str functio"
   ]
  },
  {
   "cell_type": "markdown",
   "metadata": {},
   "source": [
    "**c. (4 Points)** Using your regex skills, construct a logical vector indicating whether a character has a\n",
    "middle/second name."
   ]
  },
  {
   "cell_type": "code",
   "execution_count": 7,
   "metadata": {
    "colab": {
     "base_uri": "https://localhost:8080/"
    },
    "id": "YBCE9ZmM8GRt",
    "outputId": "32177297-a049-46a5-a8ac-0a1174fba835"
   },
   "outputs": [
    {
     "data": {
      "text/plain": [
       "0             Anthony Fauci\n",
       "1    Donnatella Hollingdorp\n",
       "2       F. Scott Fitzgerald\n",
       "3        Martin Luther King\n",
       "4        Theodore Snodgrass\n",
       "5        Carlamina Scarfoni\n",
       "dtype: object"
      ]
     },
     "execution_count": 7,
     "metadata": {},
     "output_type": "execute_result"
    }
   ],
   "source": [
    "import warnings\n",
    "warnings.filterwarnings('ignore') #ignore notfication about deprecated features\n",
    "# Create a vector of names with the titles removed.\n",
    "pname_notitle = pnamelist.str.replace(title, '')\n",
    "pname_notitle = pname_notitle.str.strip() \n",
    "pname_notitle"
   ]
  },
  {
   "cell_type": "code",
   "execution_count": 8,
   "metadata": {
    "colab": {
     "base_uri": "https://localhost:8080/"
    },
    "id": "9TH-m-sqMwf3",
    "outputId": "f6551acb-0121-4830-a207-a7e8b9aee232",
    "scrolled": true
   },
   "outputs": [
    {
     "data": {
      "text/plain": [
       "0    False\n",
       "1    False\n",
       "2     True\n",
       "3     True\n",
       "4    False\n",
       "5    False\n",
       "dtype: bool"
      ]
     },
     "execution_count": 8,
     "metadata": {},
     "output_type": "execute_result"
    }
   ],
   "source": [
    "# Represent a middle name (once titles have been removed).\n",
    "# Uppercase alphabet followed by any number of lowercase alphabet, bracketed by blank space.\n",
    "middlename = r'[\\s][A-Z][a-z]*[\\s]'\n",
    "\n",
    "pname_notitle.str.contains(middlename)"
   ]
  },
  {
   "cell_type": "markdown",
   "metadata": {},
   "source": [
    "**3. (6 Points) Consider the HTML string** \\<title\\>+++BREAKING NEWS+++\\<title\\>. We would like to extract the first HTML tag\n",
    "(i.e., “\\<title\\>”). To do so we write the regular expression “\\<.+\\>”. Explain why this fails and correct the expression."
   ]
  },
  {
   "cell_type": "code",
   "execution_count": 9,
   "metadata": {
    "colab": {
     "base_uri": "https://localhost:8080/"
    },
    "id": "YBqfuCuRNMY_",
    "outputId": "3e2f3f90-0b68-4cd0-aad6-1fc8c1e74d66"
   },
   "outputs": [
    {
     "data": {
      "text/plain": [
       "['<title>']"
      ]
     },
     "execution_count": 9,
     "metadata": {},
     "output_type": "execute_result"
    }
   ],
   "source": [
    "teststring = \"<title>+++BREAKING NEWS+++<title>\"\n",
    "\n",
    "pattern3 = re.compile('(<[a-z]+>).')\n",
    "\n",
    "pattern3.findall(teststring)"
   ]
  },
  {
   "cell_type": "markdown",
   "metadata": {},
   "source": [
    "**4. (6 Points)** Consider the string “(5-3)^2=5^2-2*5*3+3^2” conforms to the binomial theorem. We would like to extract\n",
    "the equation in its entirety from the string. To do so we write the regular expression “[^0-9=+*()]+”. Explain why this\n",
    "fails and correct the expression."
   ]
  },
  {
   "cell_type": "markdown",
   "metadata": {
    "id": "YEUM7biwNMoH"
   },
   "source": [
    "\n",
    "The regex we are given fails because '^' at the beginning of a character grouping is itself a special character in the regex expression which implies an inversion of selection (do NOT include the following). Also, the subtraction sign '-' is just not included in the selection because the '-' in '0-9' is a part of the expression to represent all numeric characters, and does not represent the '-' character itself.\n",
    "\n",
    "These issues have been fixed in the correct expression below. The backslash before an otherwise-special character is used to make the regex interpret that character as itself and not as part of the expression logic."
   ]
  },
  {
   "cell_type": "code",
   "execution_count": 10,
   "metadata": {
    "colab": {
     "base_uri": "https://localhost:8080/"
    },
    "id": "W5YxwQOzNM7T",
    "outputId": "ef0a02de-82db-4c30-eb97-8892cf7857b5"
   },
   "outputs": [
    {
     "data": {
      "text/plain": [
       "['(5-3)^2=5^2-2*5*3+3^2']"
      ]
     },
     "execution_count": 10,
     "metadata": {},
     "output_type": "execute_result"
    }
   ],
   "source": [
    "teststring = \"(5-3)^2=5^2-2*5*3+3^2\"\n",
    "\n",
    "pattern4 = re.compile('[\\^0-9=+\\-*()]+')\n",
    "\n",
    "pattern4.findall(teststring)"
   ]
  },
  {
   "cell_type": "markdown",
   "metadata": {
    "id": "FlvrpZ1AqDpN"
   },
   "source": [
    "### Part 2: Analyzing Chess Tournament Results (70 Points)\n",
    "\n",
    "**For Part 2 of Project 1, you’re given a text file (“Project1.txt”)** with chess tournament results where the information has\n",
    "some structure. <br>"
   ]
  },
  {
   "cell_type": "markdown",
   "metadata": {},
   "source": [
    "**Your job is to create a Jupyter Notebook that generates a .CSV file with the following information for\n",
    "each of the chess players:**\n",
    "Player’s Name, Player’s State, Total Number of Points, Player’s Pre-Rating, and Average Pre Tournament Chess Rating of\n",
    "Opponents"
   ]
  },
  {
   "cell_type": "markdown",
   "metadata": {},
   "source": [
    "For the first player shown in the file excerpt below, that information would be: <br>\n",
    "_Gary Hua, ON, 6.0, 1794, 1605_ <br>"
   ]
  },
  {
   "cell_type": "markdown",
   "metadata": {},
   "source": [
    "His “Average Pre Tournament Chess Rating of Opponents” score of 1605 was calculated by using the pre-tournament\n",
    "opponents’ ratings of 1436, 1563, 1600, 1610, 1649, 1663, 1716, and dividing by the total number of games played."
   ]
  },
  {
   "cell_type": "markdown",
   "metadata": {},
   "source": [
    "**Your job is to create a Jupyter Notebook that generates a .CSV file with the following information for\n",
    "each of the chess players:**\n",
    "Player’s Name, Player’s State, Total Number of Points, Player’s Pre-Rating, and Average Pre Tournament Chess Rating of\n",
    "Opponents\n",
    "\n",
    "For the first player shown in the file excerpt below, that information would be: <br>\n",
    "_Gary Hua, ON, 6.0, 1794, 1605_ <br>\n",
    "\n",
    "His “Average Pre Tournament Chess Rating of Opponents” score of 1605 was calculated by using the pre-tournament\n",
    "opponents’ ratings of 1436, 1563, 1600, 1610, 1649, 1663, 1716, and dividing by the total number of games played.\n",
    "\n",
    "For each player we are provided with the total points they’ve won during the tournament and details on the results of\n",
    "their seven rounds of play. For each round we are given the unique ID of their opponent (an integer value) and an\n",
    "indicator of whether they won (‘W’), lost (‘L’), achieved a draw (‘D’), had a bye for that round (‘B’), or were unable to\n",
    "compete (‘U’).\n",
    "<br>\n",
    "<br>\n",
    "If you have questions about the meaning of the remainder of the data or the results, please post them in the weekly\n",
    "Discussion Forum. Data science, like chess, is a game of back and forth…\n",
    "The chess rating system (invented by a Minnesota statistician named Arpad Elo) has been used in many other contexts,\n",
    "including assessing the relative strength of employment candidates by human resource departments ([it has even been used by some online dating platforms to match up profiles](https://www.vox.com/2019/2/7/18210998/tinder-algorithm-swiping-tips-dating-app-science) ).\n",
    "<br>\n",
    "<br>\n",
    "Be sure to include some commentary in formatted Markdown cells explaining your approach to solving each of the\n",
    "individual problems. Save all of your work for this project within a single Jupyter Notebook upload / submit it within the\n",
    "provided Project 1 Canvas submission portal. Be sure to save your Notebook using the following nomenclature : first\n",
    "initial_last name_project1\" (e.g., J_Smith_project1). Small groups should identity all group members at the start\n",
    "of the Jupyter Notebook and each team member should submit their own copy of the team’s work within Canvas."
   ]
  },
  {
   "cell_type": "markdown",
   "metadata": {
    "id": "FlvrpZ1AqDpN"
   },
   "source": [
    "Our approach to reading the chess tournament file involves the use of Python's built-in text file reading functionality to read in a list of lines, separated by newline characters.\n",
    "\n",
    "We then start create a separate list of each player's info called chesslines, joining the first and second line in the file for each player, and skipping past lines which do not contain any player info. We do not need to use any regular expressions at this stage."
   ]
  },
  {
   "cell_type": "code",
   "execution_count": 11,
   "metadata": {
    "id": "0ZYHm0SsLZFk"
   },
   "outputs": [],
   "source": [
    "# Open the chess file and read it.\n",
    "chessfile = open('Project1.txt', 'r')\n",
    "lines = chessfile.readlines()\n",
    "\n",
    "# Extract relevant chess player info.\n",
    "n = 5\n",
    "chesslines = []\n",
    "\n",
    "while n < len(lines):\n",
    "    chesslines.append(lines[n-1] + lines[n])\n",
    "    n = n + 3\n"
   ]
  },
  {
   "cell_type": "markdown",
   "metadata": {
    "id": "9r08c5IxAcFs"
   },
   "source": [
    "Now we use a regular expression to extract player names and create a list of them, using the structure of the chess file with its vertical line separators ('|' characters) to help locate these names. Our regular expression captures blank spaces following the names, so we strip these spaces."
   ]
  },
  {
   "cell_type": "code",
   "execution_count": 12,
   "metadata": {
    "id": "j4-d837peTHJ"
   },
   "outputs": [
    {
     "name": "stdout",
     "output_type": "stream",
     "text": [
      "['GARY HUA', 'DAKSHESH DARURI', 'ADITYA BAJAJ', 'PATRICK H SCHILLING', 'HANSHI ZUO', 'HANSEN SONG', 'GARY DEE SWATHELL', 'EZEKIEL HOUGHTON', 'STEFANO LEE', 'ANVIT RAO', 'CAMERON WILLIAM MC LEMAN', 'KENNETH J TACK', 'TORRANCE HENRY JR', 'BRADLEY SHAW', 'ZACHARY JAMES HOUGHTON', 'MIKE NIKITIN', 'RONALD GRZEGORCZYK', 'DAVID SUNDEEN', 'DIPANKAR ROY', 'JASON ZHENG', 'DINH DANG BUI', 'EUGENE L MCCLURE', 'ALAN BUI', 'MICHAEL R ALDRICH', 'LOREN SCHWIEBERT', 'MAX ZHU', 'GAURAV GIDWANI', 'SOFIA ADINA STANESCU-BELLU', 'CHIEDOZIE OKORIE', 'GEORGE AVERY JONES', 'RISHI SHETTY', 'JOSHUA PHILIP MATHEWS', 'JADE GE', 'MICHAEL JEFFERY THOMAS', 'JOSHUA DAVID LEE', 'SIDDHARTH JHA', 'AMIYATOSH PWNANANDAM', 'BRIAN LIU', 'JOEL R HENDON', 'FOREST ZHANG', 'KYLE WILLIAM MURPHY', 'JARED GE', 'ROBERT GLEN VASEY', 'JUSTIN D SCHILLING', 'DEREK YAN', 'JACOB ALEXANDER LAVALLEY', 'ERIC WRIGHT', 'DANIEL KHAIN', 'MICHAEL J MARTIN', 'SHIVAM JHA', 'TEJAS AYYAGARI', 'ETHAN GUO', 'JOSE C YBARRA', 'LARRY HODGE', 'ALEX KONG', 'MARISA RICCI', 'MICHAEL LU', 'VIRAJ MOHILE', 'SEAN M MC CORMICK', 'JULIA SHEN', 'JEZZEL FARKAS', 'ASHWIN BALAJI', 'THOMAS JOSEPH HOSMER', 'BEN LI']\n"
     ]
    }
   ],
   "source": [
    "# Represent a full name in the chess file's format.\n",
    "name_pattern = re.compile('[|][\\s]([A-Z]+[A-Z\\s\\-]+)')\n",
    "\n",
    "names = []\n",
    "\n",
    "for i in chesslines:\n",
    "    x = name_pattern.findall(i)\n",
    "    names.append(x[0].strip())\n",
    "\n",
    "print(names)"
   ]
  },
  {
   "cell_type": "markdown",
   "metadata": {
    "id": "oWpXzQd4A1w-"
   },
   "source": [
    "A similar process is used to create a list of the players' home states, total scores, and pre-tournament ELO ratings."
   ]
  },
  {
   "cell_type": "code",
   "execution_count": 13,
   "metadata": {
    "id": "z-zpX9fXeXKS"
   },
   "outputs": [
    {
     "name": "stdout",
     "output_type": "stream",
     "text": [
      "['ON', 'MI', 'MI', 'MI', 'MI', 'OH', 'MI', 'MI', 'ON', 'MI', 'MI', 'MI', 'MI', 'MI', 'MI', 'MI', 'MI', 'MI', 'MI', 'MI', 'ON', 'MI', 'ON', 'MI', 'MI', 'ON', 'MI', 'MI', 'MI', 'ON', 'MI', 'ON', 'MI', 'MI', 'MI', 'MI', 'MI', 'MI', 'MI', 'MI', 'MI', 'MI', 'MI', 'MI', 'MI', 'MI', 'MI', 'MI', 'MI', 'MI', 'MI', 'MI', 'MI', 'MI', 'MI', 'MI', 'MI', 'MI', 'MI', 'MI', 'ON', 'MI', 'MI', 'MI']\n"
     ]
    }
   ],
   "source": [
    "# Represent a state in the chess file's format.\n",
    "state_pattern = re.compile('([A-Z]{2})[\\s][|]')\n",
    "\n",
    "states = []\n",
    "\n",
    "for i in chesslines:\n",
    "    x = state_pattern.findall(i)\n",
    "    states.append(x[0])\n",
    "\n",
    "print(states)"
   ]
  },
  {
   "cell_type": "code",
   "execution_count": 14,
   "metadata": {
    "id": "aYWLR-kVebAc"
   },
   "outputs": [
    {
     "name": "stdout",
     "output_type": "stream",
     "text": [
      "['6.0', '6.0', '6.0', '5.5', '5.5', '5.0', '5.0', '5.0', '5.0', '5.0', '4.5', '4.5', '4.5', '4.5', '4.5', '4.0', '4.0', '4.0', '4.0', '4.0', '4.0', '4.0', '4.0', '4.0', '3.5', '3.5', '3.5', '3.5', '3.5', '3.5', '3.5', '3.5', '3.5', '3.5', '3.5', '3.5', '3.5', '3.0', '3.0', '3.0', '3.0', '3.0', '3.0', '3.0', '3.0', '3.0', '2.5', '2.5', '2.5', '2.5', '2.5', '2.5', '2.0', '2.0', '2.0', '2.0', '2.0', '2.0', '2.0', '1.5', '1.5', '1.0', '1.0', '1.0']\n"
     ]
    }
   ],
   "source": [
    "# Represent total scores in the chess file's format.\n",
    "score_pattern = re.compile('[0-9][\\.][0-9]')\n",
    "\n",
    "scores = []\n",
    "\n",
    "for i in chesslines:\n",
    "    x = score_pattern.findall(i)\n",
    "    scores.append(x[0])\n",
    "\n",
    "print(scores)"
   ]
  },
  {
   "cell_type": "markdown",
   "metadata": {
    "id": "nH4ZDgBtBzbM"
   },
   "source": [
    "Pre-tournament ELO ratings are a quantity that will actually be used in a future calculation, so they are converted from strings to ints before being stored."
   ]
  },
  {
   "cell_type": "code",
   "execution_count": 15,
   "metadata": {
    "id": "ekWKbBjigfkL"
   },
   "outputs": [
    {
     "name": "stdout",
     "output_type": "stream",
     "text": [
      "[1794, 1553, 1384, 1716, 1655, 1686, 1649, 1641, 1411, 1365, 1712, 1663, 1666, 1610, 1220, 1604, 1629, 1600, 1564, 1595, 1563, 1555, 1363, 1229, 1745, 1579, 1552, 1507, 1602, 1522, 1494, 1441, 1449, 1399, 1438, 1355, 980, 1423, 1436, 1348, 1403, 1332, 1283, 1199, 1242, 377, 1362, 1382, 1291, 1056, 1011, 935, 1393, 1270, 1186, 1153, 1092, 917, 853, 967, 955, 1530, 1175, 1163]\n"
     ]
    }
   ],
   "source": [
    "# Represent pre-ratings in the chess file's format.\n",
    "prerating_pattern = re.compile('R:[\\s]+([0-9]+)')\n",
    "\n",
    "preratings = []\n",
    "\n",
    "for i in chesslines:\n",
    "    x = prerating_pattern.findall(i)\n",
    "    preratings.append(int(x[0]))\n",
    "\n",
    "print(preratings)"
   ]
  },
  {
   "cell_type": "markdown",
   "metadata": {
    "id": "Wl7oPMnHCB5R"
   },
   "source": [
    "We now calculate the average pre-tournament rating of each player's opponents.\n",
    "\n",
    "Once again we use a regular expression to locate and capture the player ID of each of a given player's opponents.\n",
    "\n",
    "We then use these opponent IDs cast as ints to reference their pre-ratings, which were extracted in the previous block.\n",
    "\n",
    "We then average the pre-ratings of the opponents for each player and store the results in a list. It does not matter how many games a player actually played provided they were in the tournament at all (i.e, in at least 1 game)."
   ]
  },
  {
   "cell_type": "code",
   "execution_count": 16,
   "metadata": {
    "id": "V7nZEFq9ph5K"
   },
   "outputs": [
    {
     "name": "stdout",
     "output_type": "stream",
     "text": [
      "[1605, 1469, 1564, 1574, 1501, 1519, 1372, 1468, 1523, 1554, 1468, 1506, 1498, 1515, 1484, 1386, 1499, 1480, 1426, 1411, 1470, 1300, 1214, 1357, 1363, 1507, 1222, 1522, 1314, 1144, 1260, 1379, 1277, 1375, 1150, 1388, 1385, 1539, 1430, 1391, 1248, 1150, 1107, 1327, 1152, 1358, 1392, 1356, 1286, 1296, 1356, 1495, 1345, 1206, 1406, 1414, 1363, 1391, 1319, 1330, 1327, 1186, 1350, 1263]\n"
     ]
    }
   ],
   "source": [
    "# Represent opponent IDs in chess file's format.\n",
    "opponent_pattern = re.compile('([0-9]+)[|]')\n",
    "\n",
    "avg_opponent_rtgs = []\n",
    "\n",
    "for i in chesslines:\n",
    "    # The number of opponents is at least 1, at most 7.\n",
    "    opponents = opponent_pattern.findall(i)\n",
    "\n",
    "    # Inner loop produces a sum of opponent pre-ratings.\n",
    "    opr_sum = 0\n",
    "    for j in opponents:\n",
    "        opr_sum = opr_sum + preratings[int(j) - 1]\n",
    "\n",
    "    # Calculate average.\n",
    "    avg_opponent_rtgs.append(round(opr_sum/len(opponents)))\n",
    "\n",
    "\n",
    "print(avg_opponent_rtgs)"
   ]
  },
  {
   "cell_type": "markdown",
   "metadata": {
    "id": "9vNO1OAjDMRd"
   },
   "source": [
    "We now convert our collection of lists of player data into a pandas dataframe."
   ]
  },
  {
   "cell_type": "code",
   "execution_count": 17,
   "metadata": {
    "id": "SOtwRC7ltcxM"
   },
   "outputs": [
    {
     "data": {
      "text/html": [
       "<div>\n",
       "<style scoped>\n",
       "    .dataframe tbody tr th:only-of-type {\n",
       "        vertical-align: middle;\n",
       "    }\n",
       "\n",
       "    .dataframe tbody tr th {\n",
       "        vertical-align: top;\n",
       "    }\n",
       "\n",
       "    .dataframe thead th {\n",
       "        text-align: right;\n",
       "    }\n",
       "</style>\n",
       "<table border=\"1\" class=\"dataframe\">\n",
       "  <thead>\n",
       "    <tr style=\"text-align: right;\">\n",
       "      <th></th>\n",
       "      <th>Names</th>\n",
       "      <th>States</th>\n",
       "      <th>Total Scores</th>\n",
       "      <th>Pre-Ratings</th>\n",
       "      <th>Avg Opponent Pre-Ratings</th>\n",
       "    </tr>\n",
       "  </thead>\n",
       "  <tbody>\n",
       "    <tr>\n",
       "      <td>1</td>\n",
       "      <td>GARY HUA</td>\n",
       "      <td>ON</td>\n",
       "      <td>6.0</td>\n",
       "      <td>1794</td>\n",
       "      <td>1605</td>\n",
       "    </tr>\n",
       "    <tr>\n",
       "      <td>2</td>\n",
       "      <td>DAKSHESH DARURI</td>\n",
       "      <td>MI</td>\n",
       "      <td>6.0</td>\n",
       "      <td>1553</td>\n",
       "      <td>1469</td>\n",
       "    </tr>\n",
       "    <tr>\n",
       "      <td>3</td>\n",
       "      <td>ADITYA BAJAJ</td>\n",
       "      <td>MI</td>\n",
       "      <td>6.0</td>\n",
       "      <td>1384</td>\n",
       "      <td>1564</td>\n",
       "    </tr>\n",
       "    <tr>\n",
       "      <td>4</td>\n",
       "      <td>PATRICK H SCHILLING</td>\n",
       "      <td>MI</td>\n",
       "      <td>5.5</td>\n",
       "      <td>1716</td>\n",
       "      <td>1574</td>\n",
       "    </tr>\n",
       "    <tr>\n",
       "      <td>5</td>\n",
       "      <td>HANSHI ZUO</td>\n",
       "      <td>MI</td>\n",
       "      <td>5.5</td>\n",
       "      <td>1655</td>\n",
       "      <td>1501</td>\n",
       "    </tr>\n",
       "    <tr>\n",
       "      <td>...</td>\n",
       "      <td>...</td>\n",
       "      <td>...</td>\n",
       "      <td>...</td>\n",
       "      <td>...</td>\n",
       "      <td>...</td>\n",
       "    </tr>\n",
       "    <tr>\n",
       "      <td>60</td>\n",
       "      <td>JULIA SHEN</td>\n",
       "      <td>MI</td>\n",
       "      <td>1.5</td>\n",
       "      <td>967</td>\n",
       "      <td>1330</td>\n",
       "    </tr>\n",
       "    <tr>\n",
       "      <td>61</td>\n",
       "      <td>JEZZEL FARKAS</td>\n",
       "      <td>ON</td>\n",
       "      <td>1.5</td>\n",
       "      <td>955</td>\n",
       "      <td>1327</td>\n",
       "    </tr>\n",
       "    <tr>\n",
       "      <td>62</td>\n",
       "      <td>ASHWIN BALAJI</td>\n",
       "      <td>MI</td>\n",
       "      <td>1.0</td>\n",
       "      <td>1530</td>\n",
       "      <td>1186</td>\n",
       "    </tr>\n",
       "    <tr>\n",
       "      <td>63</td>\n",
       "      <td>THOMAS JOSEPH HOSMER</td>\n",
       "      <td>MI</td>\n",
       "      <td>1.0</td>\n",
       "      <td>1175</td>\n",
       "      <td>1350</td>\n",
       "    </tr>\n",
       "    <tr>\n",
       "      <td>64</td>\n",
       "      <td>BEN LI</td>\n",
       "      <td>MI</td>\n",
       "      <td>1.0</td>\n",
       "      <td>1163</td>\n",
       "      <td>1263</td>\n",
       "    </tr>\n",
       "  </tbody>\n",
       "</table>\n",
       "<p>64 rows × 5 columns</p>\n",
       "</div>"
      ],
      "text/plain": [
       "                   Names States Total Scores  Pre-Ratings  \\\n",
       "1               GARY HUA     ON          6.0         1794   \n",
       "2        DAKSHESH DARURI     MI          6.0         1553   \n",
       "3           ADITYA BAJAJ     MI          6.0         1384   \n",
       "4    PATRICK H SCHILLING     MI          5.5         1716   \n",
       "5             HANSHI ZUO     MI          5.5         1655   \n",
       "..                   ...    ...          ...          ...   \n",
       "60            JULIA SHEN     MI          1.5          967   \n",
       "61         JEZZEL FARKAS     ON          1.5          955   \n",
       "62         ASHWIN BALAJI     MI          1.0         1530   \n",
       "63  THOMAS JOSEPH HOSMER     MI          1.0         1175   \n",
       "64                BEN LI     MI          1.0         1163   \n",
       "\n",
       "    Avg Opponent Pre-Ratings  \n",
       "1                       1605  \n",
       "2                       1469  \n",
       "3                       1564  \n",
       "4                       1574  \n",
       "5                       1501  \n",
       "..                       ...  \n",
       "60                      1330  \n",
       "61                      1327  \n",
       "62                      1186  \n",
       "63                      1350  \n",
       "64                      1263  \n",
       "\n",
       "[64 rows x 5 columns]"
      ]
     },
     "execution_count": 17,
     "metadata": {},
     "output_type": "execute_result"
    }
   ],
   "source": [
    "outputlist = {'Names':names, 'States':states, 'Total Scores':scores, 'Pre-Ratings':preratings, \n",
    "              'Avg Opponent Pre-Ratings':avg_opponent_rtgs}\n",
    "index = range(1, len(names) + 1)\n",
    "\n",
    "outputframe = pd.DataFrame(outputlist, index)\n",
    "\n",
    "outputframe"
   ]
  },
  {
   "cell_type": "markdown",
   "metadata": {
    "id": "CPJuF_zKDZJv"
   },
   "source": [
    "Finally, we use our output dataframe to write a csv file containing our project results."
   ]
  },
  {
   "cell_type": "code",
   "execution_count": 18,
   "metadata": {
    "id": "0iQHE6i1usU7"
   },
   "outputs": [],
   "source": [
    "outputframe.to_csv('project1_output.csv', index = False)"
   ]
  }
 ],
 "metadata": {
  "colab": {
   "name": "Project#1 Text Processing.ipynb",
   "provenance": []
  },
  "kernelspec": {
   "display_name": "Python 3",
   "language": "python",
   "name": "python3"
  },
  "language_info": {
   "codemirror_mode": {
    "name": "ipython",
    "version": 3
   },
   "file_extension": ".py",
   "mimetype": "text/x-python",
   "name": "python",
   "nbconvert_exporter": "python",
   "pygments_lexer": "ipython3",
   "version": "3.7.4"
  }
 },
 "nbformat": 4,
 "nbformat_minor": 1
}
